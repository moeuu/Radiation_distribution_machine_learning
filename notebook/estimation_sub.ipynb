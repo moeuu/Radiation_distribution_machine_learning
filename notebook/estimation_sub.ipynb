{
 "cells": [
  {
   "cell_type": "code",
   "execution_count": 1,
   "metadata": {},
   "outputs": [],
   "source": [
    "import math\n",
    "import numpy as np\n",
    "import pandas as pd\n",
    "import scipy.stats as stats\n",
    "import matplotlib.pyplot as plt\n",
    "from matplotlib.patches import Rectangle\n",
    "from typing import List, Tuple, Union\n",
    "from dataclasses import dataclass\n",
    "from scipy.spatial import distance"
   ]
  },
  {
   "cell_type": "code",
   "execution_count": null,
   "metadata": {},
   "outputs": [],
   "source": []
  },
  {
   "cell_type": "code",
   "execution_count": 2,
   "metadata": {},
   "outputs": [],
   "source": [
    "rad_measure = pd.read_csv(\"../data/GT/result.csv\")\n",
    "correct_list = []\n",
    "correct_list.append([2.0,6.5,90])\n",
    "x = rad_measure['x']\n",
    "y = rad_measure['y']"
   ]
  },
  {
   "cell_type": "code",
   "execution_count": 3,
   "metadata": {},
   "outputs": [],
   "source": [
    "def calculate_distance(x1, y1, x2, y2):\n",
    "    distance = math.sqrt((x2 - x1)**2 + (y2 - y1)**2)\n",
    "    return distance"
   ]
  },
  {
   "cell_type": "code",
   "execution_count": 4,
   "metadata": {},
   "outputs": [],
   "source": [
    "def calculate_nearest_i(g, correct_list):\n",
    "    nearest_i = []\n",
    "    G = g*g\n",
    "    d=10/g\n",
    "    for l in correct_list:\n",
    "        temp_i = []\n",
    "        temp_i.append((0,100000))\n",
    "        for i in range(G):\n",
    "            temp_x = (i % g)*d + d/2\n",
    "            temp_y = (i//g)*d + d/2\n",
    "            temp_dis = calculate_distance(l[0],l[1],temp_x,temp_y)\n",
    "            if temp_dis < temp_i[0][1]:\n",
    "                temp_i.clear()\n",
    "                temp_i.append((i, temp_dis))\n",
    "            elif temp_dis == temp_i[0][1]:\n",
    "                temp_i.append((i, temp_dis))\n",
    "            else:\n",
    "                pass\n",
    "\n",
    "        nearest_i.append(temp_i)\n",
    "\n",
    "    return nearest_i"
   ]
  },
  {
   "cell_type": "code",
   "execution_count": 5,
   "metadata": {},
   "outputs": [
    {
     "name": "stdout",
     "output_type": "stream",
     "text": [
      "0.1013986013986014\n"
     ]
    }
   ],
   "source": [
    "attenuation = rad_measure['value'][0] / rad_measure['value'][1]\n",
    "print(attenuation)"
   ]
  },
  {
   "cell_type": "code",
   "execution_count": 6,
   "metadata": {},
   "outputs": [
    {
     "name": "stdout",
     "output_type": "stream",
     "text": [
      "1 1 0.29202797202797204\n",
      "1 1 2.88\n",
      "1 1 2.88\n",
      "1 1 2.88\n",
      "3 1 2.88\n",
      "3 1 2.88\n",
      "3 1 2.88\n",
      "3 1 0.29202797202797204\n",
      "6 1 1.9459459459459456\n",
      "6 1 1.9459459459459456\n",
      "6 1 1.9459459459459456\n",
      "6 1 0.1973161973161973\n",
      "9 1 1.1356466876971607\n",
      "9 1 1.1356466876971607\n",
      "9 1 1.1356466876971607\n",
      "9 1 0.11515298581544638\n",
      "1 2 0.4294529000411354\n",
      "1 2 4.235294117647059\n",
      "1 2 4.235294117647059\n",
      "1 2 4.235294117647059\n",
      "4 2 3.7113402061855676\n",
      "4 2 3.7113402061855676\n",
      "4 2 3.7113402061855676\n",
      "4 2 0.3763247062216135\n",
      "5 2 3.0769230769230766\n",
      "5 2 3.0769230769230766\n",
      "5 2 3.0769230769230766\n",
      "5 2 0.31199569661108123\n",
      "8 2 1.6\n",
      "8 2 1.6\n",
      "8 2 1.6\n",
      "8 2 0.16223776223776226\n",
      "1 3 0.6887452170471039\n",
      "1 3 6.7924528301886795\n",
      "1 3 6.7924528301886795\n",
      "1 3 6.7924528301886795\n",
      "3 3 6.7924528301886795\n",
      "3 3 6.7924528301886795\n",
      "3 3 6.7924528301886795\n",
      "3 3 0.6887452170471039\n",
      "6 3 3.1858407079646014\n",
      "6 3 3.1858407079646014\n",
      "6 3 3.1858407079646014\n",
      "6 3 0.3230397920663407\n",
      "7 3 2.416107382550336\n",
      "7 3 2.416107382550336\n",
      "7 3 2.416107382550336\n",
      "7 3 0.24498990941943968\n",
      "1 4 1.258741258741259\n",
      "1 4 12.413793103448278\n",
      "1 4 12.413793103448278\n",
      "1 4 12.413793103448278\n",
      "4 4 8.78048780487805\n",
      "4 4 8.78048780487805\n",
      "4 4 8.78048780487805\n",
      "4 4 0.89032918301211\n",
      "7 4 2.88\n",
      "7 4 2.88\n",
      "7 4 2.88\n",
      "7 4 0.29202797202797204\n",
      "9 4 1.6289592760180993\n",
      "9 4 1.6289592760180993\n",
      "9 4 1.6289592760180993\n",
      "9 4 0.16517419232351357\n",
      "1 5 2.8079612694997316\n",
      "1 5 27.692307692307697\n",
      "1 5 27.692307692307697\n",
      "1 5 27.692307692307697\n",
      "5 5 7.999999999999999\n",
      "5 5 7.999999999999999\n",
      "5 5 7.999999999999999\n",
      "5 5 0.8111888111888111\n",
      "7 5 3.3027522935779814\n",
      "7 5 3.3027522935779814\n",
      "7 5 3.3027522935779814\n",
      "7 5 0.3348944633348303\n",
      "8 5 2.3529411764705888\n",
      "8 5 2.3529411764705888\n",
      "8 5 2.3529411764705888\n",
      "8 5 0.23858494446729747\n",
      "1 6 7.3006993006993\n",
      "1 6 71.99999999999999\n",
      "1 6 71.99999999999999\n",
      "1 6 71.99999999999999\n",
      "3 6 71.99999999999999\n",
      "3 6 71.99999999999999\n",
      "3 6 71.99999999999999\n",
      "3 6 7.3006993006993\n",
      "6 6 5.53846153846154\n",
      "6 6 5.53846153846154\n",
      "6 6 5.53846153846154\n",
      "6 6 0.5615922538999464\n",
      "9 6 1.8274111675126907\n",
      "9 6 1.8274111675126907\n",
      "9 6 1.8274111675126907\n",
      "9 6 0.18529693656597215\n",
      "1 7 71.99999999999999\n",
      "1 7 7.3006993006993\n",
      "1 7 71.99999999999999\n",
      "1 7 71.99999999999999\n",
      "4 7 21.176470588235293\n",
      "4 7 21.176470588235293\n",
      "4 7 2.1472645002056767\n",
      "4 7 21.176470588235293\n",
      "6 7 5.53846153846154\n",
      "6 7 5.53846153846154\n",
      "6 7 0.5615922538999464\n",
      "6 7 5.53846153846154\n",
      "7 7 3.5643564356435644\n",
      "7 7 3.5643564356435644\n",
      "7 7 0.36142075746036145\n",
      "7 7 3.5643564356435644\n",
      "1 8 27.692307692307697\n",
      "1 8 2.8079612694997316\n",
      "1 8 27.692307692307697\n",
      "1 8 27.692307692307697\n",
      "4 8 14.4\n",
      "4 8 14.4\n",
      "4 8 1.4601398601398603\n",
      "4 8 14.4\n",
      "5 8 7.999999999999999\n",
      "5 8 7.999999999999999\n",
      "5 8 0.8111888111888111\n",
      "5 8 7.999999999999999\n",
      "8 8 2.3529411764705888\n",
      "8 8 2.3529411764705888\n",
      "8 8 0.23858494446729747\n",
      "8 8 2.3529411764705888\n",
      "1 9 12.413793103448278\n",
      "1 9 1.258741258741259\n",
      "1 9 12.413793103448278\n",
      "1 9 12.413793103448278\n",
      "3 9 12.413793103448278\n",
      "3 9 12.413793103448278\n",
      "3 9 1.258741258741259\n",
      "3 9 12.413793103448278\n",
      "8 9 2.1301775147928996\n",
      "8 9 2.1301775147928996\n",
      "8 9 0.21599702073074858\n",
      "8 9 2.1301775147928996\n",
      "9 9 1.6289592760180993\n",
      "9 9 1.6289592760180993\n",
      "9 9 0.16517419232351357\n",
      "9 9 1.6289592760180993\n"
     ]
    }
   ],
   "source": [
    "rad =[]\n",
    "for i in range(len(rad_measure)):\n",
    "    temp_rad = 0\n",
    "    s_pos = rad_measure['shield'][i]\n",
    "    for l in correct_list:\n",
    "        dis = calculate_distance(x[i],y[i],l[0],l[1])\n",
    "        if s_pos == 'A':\n",
    "            if x[i] < l[0] and y[i] < l[1]:\n",
    "                temp_rad += l[2] / (dis**2) * attenuation\n",
    "            else:\n",
    "                temp_rad += l[2] / (dis**2)\n",
    "        elif s_pos == 'B':\n",
    "            if x[i] < l[0] and y[i] > l[1]:\n",
    "                temp_rad += l[2] / (dis**2) * attenuation\n",
    "            else:\n",
    "                temp_rad += l[2] / (dis**2)\n",
    "        elif s_pos == 'C':\n",
    "            if x[i] > l[0] and y[i] > l[1]:\n",
    "                temp_rad += l[2] / (dis**2) * attenuation\n",
    "            else:\n",
    "                temp_rad += l[2] / (dis**2)\n",
    "        elif s_pos == 'D':\n",
    "            if x[i] > l[0] and y[i] < l[1]:\n",
    "                temp_rad += l[2] / (dis**2) * attenuation\n",
    "            else:\n",
    "                temp_rad += l[2] / (dis**2)\n",
    "\n",
    "    rad.append(temp_rad)\n",
    "    print(x[i],y[i],rad[i])"
   ]
  },
  {
   "cell_type": "markdown",
   "metadata": {},
   "source": [
    "# MLE"
   ]
  },
  {
   "cell_type": "markdown",
   "metadata": {},
   "source": [
    "### 再急降下法"
   ]
  },
  {
   "cell_type": "markdown",
   "metadata": {},
   "source": [
    "### b = Aq"
   ]
  },
  {
   "cell_type": "code",
   "execution_count": 7,
   "metadata": {},
   "outputs": [],
   "source": [
    "#計測値\n",
    "#b = np.array(list(rad_measure['value']))\n",
    "b = np.array(rad)\n",
    "#grid 20*20\n",
    "g = 40\n",
    "d = 10/g\n",
    "G = g*g\n",
    "q_max = 100\n",
    "q_init = 1/q_max\n",
    "q = np.array([q_init]*G)\n",
    "q = q.astype(float)"
   ]
  },
  {
   "cell_type": "code",
   "execution_count": 8,
   "metadata": {},
   "outputs": [
    {
     "name": "stdout",
     "output_type": "stream",
     "text": [
      "[[(1007, 0.1767766952966369), (1008, 0.1767766952966369), (1047, 0.1767766952966369), (1048, 0.1767766952966369)]]\n",
      "(1007, 0.1767766952966369)\n",
      "(1008, 0.1767766952966369)\n",
      "(1047, 0.1767766952966369)\n",
      "(1048, 0.1767766952966369)\n"
     ]
    },
    {
     "data": {
      "image/png": "[encoded data removed]",
      "text/plain": [
       "<Figure size 432x288 with 1 Axes>"
      ]
     },
     "metadata": {
      "needs_background": "light"
     },
     "output_type": "display_data"
    }
   ],
   "source": [
    "near_i = calculate_nearest_i(g, correct_list)\n",
    "print(near_i)\n",
    "plt.xlim(0, 10)\n",
    "plt.ylim(0, 10)\n",
    "for l in near_i:\n",
    "    for ll in l:\n",
    "        print(ll)\n",
    "        i = ll[0]\n",
    "        temp_x = (i % g)*d + d/2\n",
    "        temp_y = (i//g)*d + d/2\n",
    "        plt.scatter(temp_x,temp_y, color='red', label='Red Point')"
   ]
  },
  {
   "cell_type": "markdown",
   "metadata": {},
   "source": [
    "#### A"
   ]
  },
  {
   "cell_type": "code",
   "execution_count": 10,
   "metadata": {},
   "outputs": [],
   "source": [
    "A = np.zeros((144, G))\n",
    "\n",
    "for i in range(len(b)):\n",
    "    m_x = rad_measure['x'][i]\n",
    "    m_y = rad_measure['y'][i]\n",
    "    s_pos = rad_measure['shield'][i]\n",
    "    for j in range(G):\n",
    "        d = 10 / g\n",
    "        G_x = (j % g)*d + d/2\n",
    "        G_y = (j//g)*d + d/2\n",
    "        dis = calculate_distance(m_x, m_y, G_x, G_y)\n",
    "        A[i][j] = 1/(dis**2)\n",
    "        if s_pos == 'A':\n",
    "            if m_x < G_x and m_y < G_y:\n",
    "                A[i][j] *= attenuation\n",
    "                \n",
    "        elif s_pos == 'B':\n",
    "            if m_x < G_x and m_y > G_y:\n",
    "                A[i][j] *= attenuation\n",
    "        elif s_pos == 'C':\n",
    "            if m_x > G_x and m_y > G_y:\n",
    "                A[i][j] *= attenuation\n",
    "        elif s_pos == 'D':\n",
    "            if m_x > G_x and m_y < G_y:\n",
    "                A[i][j] *= attenuation"
   ]
  },
  {
   "cell_type": "code",
   "execution_count": 11,
   "metadata": {},
   "outputs": [],
   "source": [
    "def score_func(A,b,q):\n",
    "    b_ave = A.dot(q)\n",
    "    score = np.sum(b*np.log(b_ave))-np.sum(b_ave)\n",
    "    return score\n",
    "\n",
    "def grad_func(A,b,q):\n",
    "    b_ave = A.dot(q)\n",
    "    grad_tmp = (b/b_ave)[:,np.newaxis]*A\n",
    "    grad = grad_tmp.sum(axis=0) - A.sum(axis=0)\n",
    "    return grad\n"
   ]
  },
  {
   "cell_type": "code",
   "execution_count": 12,
   "metadata": {},
   "outputs": [
    {
     "name": "stdout",
     "output_type": "stream",
     "text": [
      "initial score:1088.666979805232\n"
     ]
    }
   ],
   "source": [
    "init_score = score_func(A,b,q)\n",
    "print(f'initial score:{init_score}')"
   ]
  },
  {
   "cell_type": "code",
   "execution_count": 13,
   "metadata": {},
   "outputs": [],
   "source": [
    "def Adam(A, b, q, learning_rate=0.1, beta1=0.9, beta2=0.999, epsilon=1e-8, max_iter=1000):\n",
    "    m = np.zeros_like(q)\n",
    "    v = np.zeros_like(q)\n",
    "    \n",
    "    for i in range(max_iter):\n",
    "        t = i + 1\n",
    "        gradient = grad_func(A, b, q)\n",
    "        m = beta1 * m + (1 - beta1) * gradient\n",
    "        v = beta2 * v + (1 - beta2) * (gradient**2)\n",
    "        m_hat = m / (1 - beta1**t)\n",
    "        v_hat = v / (1 - beta2**t)\n",
    "        \n",
    "        q += learning_rate * m_hat / (np.sqrt(v_hat + epsilon))\n",
    "\n",
    "        # bound > 0\n",
    "        q[q<0]=0.0000001\n",
    "        score = score_func(A,b,q)\n",
    "\n",
    "        if i%10000==0:\n",
    "            plt.figure()\n",
    "            #plt.title(f'iter:{i} score:{score:.5} q_max:{q.max():.3}, q_min:{q.min():.3}')\n",
    "            plt.imshow(q.reshape(g,g),origin='lower',cmap='Greys')\n",
    "            plt.colorbar()\n",
    "            d = 10 / g\n",
    "            max_q_i = np.argmax(q)\n",
    "            max_x = (max_q_i % g)*d + d/2\n",
    "            max_y = (max_q_i//g)*d + d/2\n",
    "            print(max_q_i,max_x, max_y)\n",
    "    \n",
    "    return q"
   ]
  },
  {
   "cell_type": "code",
   "execution_count": 14,
   "metadata": {},
   "outputs": [
    {
     "name": "stdout",
     "output_type": "stream",
     "text": [
      "964 1.125 6.125\n",
      "1088 2.125 6.875\n",
      "967 1.875 6.125\n",
      "967 1.875 6.125\n",
      "967 1.875 6.125\n",
      "967 1.875 6.125\n"
     ]
    },
    {
     "data": {
      "text/plain": [
       "array([1.e-07, 1.e-07, 1.e-07, ..., 1.e-07, 1.e-07, 1.e-07])"
      ]
     },
     "execution_count": 14,
     "metadata": {},
     "output_type": "execute_result"
    },
    {
     "data": {
      "image/png": "[encoded data removed]",
      "text/plain": [
       "<Figure size 432x288 with 2 Axes>"
      ]
     },
     "metadata": {
      "needs_background": "light"
     },
     "output_type": "display_data"
    },
    {
     "data": {
      "image/png": "[encoded data removed]",
      "text/plain": [
       "<Figure size 432x288 with 2 Axes>"
      ]
     },
     "metadata": {
      "needs_background": "light"
     },
     "output_type": "display_data"
    },
    {
     "data": {
      "image/png": "[encoded data removed]",
      "text/plain": [
       "<Figure size 432x288 with 2 Axes>"
      ]
     },
     "metadata": {
      "needs_background": "light"
     },
     "output_type": "display_data"
    },
    {
     "data": {
      "image/png": "[encoded data removed]",
      "text/plain": [
       "<Figure size 432x288 with 2 Axes>"
      ]
     },
     "metadata": {
      "needs_background": "light"
     },
     "output_type": "display_data"
    },
    {
     "data": {
      "image/png": "[encoded data removed]",
      "text/plain": [
       "<Figure size 432x288 with 2 Axes>"
      ]
     },
     "metadata": {
      "needs_background": "light"
     },
     "output_type": "display_data"
    },
    {
     "data": {
      "image/png": "[encoded data removed]",
      "text/plain": [
       "<Figure size 432x288 with 2 Axes>"
      ]
     },
     "metadata": {
      "needs_background": "light"
     },
     "output_type": "display_data"
    }
   ],
   "source": [
    "Adam(A, b, q, learning_rate=0.1, beta1=0.9, beta2=0.999, epsilon=1e-8, max_iter=60000)"
   ]
  },
  {
   "cell_type": "code",
   "execution_count": 15,
   "metadata": {},
   "outputs": [
    {
     "data": {
      "text/plain": [
       "<matplotlib.legend.Legend at 0x7fe76f7c41c0>"
      ]
     },
     "execution_count": 15,
     "metadata": {},
     "output_type": "execute_result"
    },
    {
     "data": {
      "image/png": "[encoded data removed]",
      "text/plain": [
       "<Figure size 432x288 with 2 Axes>"
      ]
     },
     "metadata": {
      "needs_background": "light"
     },
     "output_type": "display_data"
    }
   ],
   "source": [
    "# Reshape q to a 2D grid\n",
    "q_grid = q.reshape((g, g))\n",
    "\n",
    "# Plot the heatmap using imshow with extent specified\n",
    "plt.imshow(q_grid, origin='lower', cmap='Greys', extent=[0, 10, 0, 10])\n",
    "plt.colorbar(label='[Sv/h]')  # Add a colorbar to show the scale\n",
    "\n",
    "for l in correct_list:\n",
    "    plt.scatter(l[0],l[1], color='red',s=25,label='Radiation Source')\n",
    "\n",
    "# Add labels and title\n",
    "plt.xlabel('x [m]')\n",
    "plt.ylabel('y [m]')\n",
    "plt.legend()"
   ]
  },
  {
   "cell_type": "code",
   "execution_count": 39,
   "metadata": {},
   "outputs": [
    {
     "data": {
      "text/plain": [
       "<matplotlib.legend.Legend at 0x7fe76ecf7e80>"
      ]
     },
     "execution_count": 39,
     "metadata": {},
     "output_type": "execute_result"
    },
    {
     "data": {
      "image/png": "[encoded data removed]",
      "text/plain": [
       "<Figure size 432x288 with 2 Axes>"
      ]
     },
     "metadata": {
      "needs_background": "light"
     },
     "output_type": "display_data"
    }
   ],
   "source": [
    "q_grid_new = np.zeros((50, 50))\n",
    "\n",
    "q_grid_new[5:45,5:45] = q_grid\n",
    "q_grid_copy = q_grid_new.copy()\n",
    "\n",
    "for i in range(5,45):\n",
    "    for j in range(5,45):\n",
    "        sub_grid = q_grid_new[i-5:i+5,j-5:j+5]\n",
    "        max_index = np.unravel_index(np.argmax(sub_grid), sub_grid.shape)\n",
    "        if q_grid_new[i][j] == sub_grid[max_index[0]][max_index[1]]:\n",
    "            q_grid_new[i][j] += np.sum(sub_grid)\n",
    "\n",
    "for i in range(50):\n",
    "    for j in range(50):\n",
    "        q_grid_new[i][j] -= q_grid_copy[i][j]\n",
    "\n",
    "restored_grid = q_grid_new[5:45, 5:45]\n",
    "\n",
    "        # Plot the heatmap using imshow with extent specified\n",
    "plt.imshow(restored_grid, origin='lower', cmap='Greys',extent=[0, 10, 0, 10])\n",
    "plt.colorbar(label='[Sv/h]')  # Add a colorbar to show the scale\n",
    "\n",
    "\n",
    "for l in correct_list:\n",
    "    plt.scatter(l[0],l[1], color='red', label='Radiation Source')\n",
    "\n",
    "# Add labels and title\n",
    "plt.xlabel('x [m]')\n",
    "plt.ylabel('y [m]')\n",
    "plt.legend()"
   ]
  },
  {
   "cell_type": "code",
   "execution_count": 38,
   "metadata": {},
   "outputs": [
    {
     "name": "stdout",
     "output_type": "stream",
     "text": [
      "要素の値: 0.027151194678886867, インデックス: (20, 19)\n",
      "4.875 5.125\n",
      "要素の値: 0.029020959687516244, インデックス: (16, 4)\n",
      "1.125 4.125\n",
      "要素の値: 86.28408246883993, インデックス: (24, 7)\n",
      "1.875 6.125\n"
     ]
    }
   ],
   "source": [
    "# 2次元リストをNumPy配列に変換\n",
    "matrix_array = np.array(restored_grid)\n",
    "\n",
    "# 大きい順に3つの要素の値とインデックスを取得\n",
    "top3_indices = np.argpartition(matrix_array.flatten(), -3)[-3:]\n",
    "top3_values = matrix_array.flatten()[top3_indices]\n",
    "\n",
    "# 大きい順に3つの要素の値とインデックス（(x, y)形式）を表示\n",
    "for index, value in zip(top3_indices, top3_values):\n",
    "    x, y = np.unravel_index(index, matrix_array.shape)\n",
    "    print(f\"要素の値: {value}, インデックス: ({x}, {y})\")\n",
    "    G_x = d/2 + d*y\n",
    "    G_y = d/2 + d*x\n",
    "    print(G_x,G_y)"
   ]
  },
  {
   "cell_type": "code",
   "execution_count": 16,
   "metadata": {},
   "outputs": [
    {
     "name": "stdout",
     "output_type": "stream",
     "text": [
      "[[(1007, 0.1767766952966369), (1008, 0.1767766952966369), (1047, 0.1767766952966369), (1048, 0.1767766952966369)]]\n"
     ]
    },
    {
     "data": {
      "text/plain": [
       "Text(0, 0.5, 'y [m]')"
      ]
     },
     "execution_count": 16,
     "metadata": {},
     "output_type": "execute_result"
    },
    {
     "data": {
      "image/png": "[encoded data removed]",
      "text/plain": [
       "<Figure size 432x288 with 2 Axes>"
      ]
     },
     "metadata": {
      "needs_background": "light"
     },
     "output_type": "display_data"
    }
   ],
   "source": [
    "# Reshape q to a 2D grid\n",
    "q_grid = q.reshape((g, g))\n",
    "\n",
    "# Plot the heatmap using imshow with extent specified\n",
    "plt.imshow(q_grid, origin='lower', cmap='Greys', extent=[0, 10, 0, 10])\n",
    "plt.colorbar(label='[Sv/h]')  # Add a colorbar to show the scale\n",
    "\n",
    "for l in correct_list:\n",
    "    plt.scatter(l[0],l[1], color='red',s=50)\n",
    "\n",
    "near_i = calculate_nearest_i(g, correct_list)\n",
    "print(near_i)\n",
    "plt.xlim(0, 10)\n",
    "plt.ylim(0, 10)\n",
    "for l in near_i:\n",
    "    for ll in l:\n",
    "        i = ll[0]\n",
    "        temp_x = (i % g)*d + d/2\n",
    "        temp_y = (i//g)*d + d/2\n",
    "        plt.scatter(temp_x,temp_y, color='blue',s=10)\n",
    "\n",
    "# Add labels and title\n",
    "plt.xlabel('x [m]')\n",
    "plt.ylabel('y [m]')"
   ]
  },
  {
   "cell_type": "code",
   "execution_count": 17,
   "metadata": {},
   "outputs": [
    {
     "data": {
      "text/plain": [
       "86.48361803519197"
      ]
     },
     "execution_count": 17,
     "metadata": {},
     "output_type": "execute_result"
    }
   ],
   "source": [
    "sum(q)"
   ]
  },
  {
   "cell_type": "markdown",
   "metadata": {},
   "source": [
    "### 遮蔽無し"
   ]
  },
  {
   "cell_type": "code",
   "execution_count": 18,
   "metadata": {},
   "outputs": [],
   "source": [
    "rad_ns =[]\n",
    "x_ns =[]\n",
    "y_ns =[]\n",
    "for i in range(len(rad_measure)):\n",
    "    if i % 4 == 0:\n",
    "        x_ns.append(rad_measure['x'][i])\n",
    "        y_ns.append(rad_measure['y'][i])\n",
    "        temp_rad = 0\n",
    "        s_pos = rad_measure['shield'][i]\n",
    "        for l in correct_list:\n",
    "            dis = calculate_distance(x[i],y[i],l[0],l[1])\n",
    "            temp_rad += l[2] / (dis**2)\n",
    "\n",
    "        rad_ns.append(temp_rad)"
   ]
  },
  {
   "cell_type": "code",
   "execution_count": 35,
   "metadata": {},
   "outputs": [
    {
     "data": {
      "image/png": "[encoded data removed]",
      "text/plain": [
       "<Figure size 720x720 with 1 Axes>"
      ]
     },
     "metadata": {
      "needs_background": "light"
     },
     "output_type": "display_data"
    }
   ],
   "source": [
    "plt.figure(figsize=(10, 10))\n",
    "\n",
    "plt.scatter(x_ns, y_ns,color='blue',label='Measurement points')\n",
    "plt.xlabel('x [m]')\n",
    "plt.ylabel('y [m]')\n",
    "\n",
    "plt.xlim(0,10)\n",
    "plt.ylim(0,10)\n",
    "i = 0\n",
    "for l in correct_list:\n",
    "    if i == 0:\n",
    "        plt.scatter(l[0],l[1], color='red', label='Radiation Source')\n",
    "    else:\n",
    "        plt.scatter(l[0],l[1], color='red')\n",
    "    i += 1\n",
    "\n",
    "plt.grid(True, linestyle='--', linewidth=1, alpha=0.5)\n",
    "plt.legend()\n",
    "plt.show()"
   ]
  },
  {
   "cell_type": "code",
   "execution_count": 19,
   "metadata": {},
   "outputs": [
    {
     "data": {
      "image/png": "[encoded data removed]",
      "text/plain": [
       "<Figure size 432x288 with 2 Axes>"
      ]
     },
     "metadata": {
      "needs_background": "light"
     },
     "output_type": "display_data"
    }
   ],
   "source": [
    "\n",
    "# Create a scatter plot with color-coded values\n",
    "plt.scatter(x_ns, y_ns, c=rad_ns, cmap='viridis', s=50, edgecolors='k', linewidths=0.5)\n",
    "\n",
    "# Add a colorbar to show the scale\n",
    "plt.colorbar(label='Value')\n",
    "\n",
    "# Set aspect ratio to be equal, making the plot square\n",
    "plt.axis('equal')\n",
    "\n",
    "# Add labels and title\n",
    "plt.xlabel('X-axis')\n",
    "plt.ylabel('Y-axis')\n",
    "\n",
    "# Show the plot\n",
    "plt.show()\n"
   ]
  },
  {
   "cell_type": "code",
   "execution_count": 20,
   "metadata": {},
   "outputs": [],
   "source": [
    "A_ns = np.zeros((36, G))\n",
    "\n",
    "for i in range(len(rad_ns)):\n",
    "    m_x = x_ns[i]\n",
    "    m_y = y_ns[i]\n",
    "    for j in range(G):\n",
    "        d = 10 / g\n",
    "        G_x = (j % g)*d + d/2\n",
    "        G_y = (j//g)*d + d/2\n",
    "        dis = calculate_distance(m_x, m_y, G_x, G_y)\n",
    "        A_ns[i][j] = 1/(dis**2)"
   ]
  },
  {
   "cell_type": "code",
   "execution_count": 21,
   "metadata": {},
   "outputs": [],
   "source": [
    "v_ns = np.array(rad_ns)\n",
    "q_ns = np.array([q_init]*G)\n",
    "q_ns = q_ns.astype(float)"
   ]
  },
  {
   "cell_type": "code",
   "execution_count": 22,
   "metadata": {},
   "outputs": [
    {
     "name": "stdout",
     "output_type": "stream",
     "text": [
      "initial score:458.9390234576253\n"
     ]
    }
   ],
   "source": [
    "init_score = score_func(A_ns,v_ns,q_ns)\n",
    "print(f'initial score:{init_score}')"
   ]
  },
  {
   "cell_type": "code",
   "execution_count": 23,
   "metadata": {},
   "outputs": [
    {
     "name": "stdout",
     "output_type": "stream",
     "text": [
      "1083 0.875 6.875\n",
      "971 2.875 6.125\n",
      "971 2.875 6.125\n",
      "971 2.875 6.125\n",
      "971 2.875 6.125\n",
      "971 2.875 6.125\n",
      "971 2.875 6.125\n",
      "971 2.875 6.125\n",
      "971 2.875 6.125\n",
      "971 2.875 6.125\n"
     ]
    },
    {
     "data": {
      "text/plain": [
       "array([0.00926061, 0.00954339, 0.00993422, ..., 0.01795824, 0.01754072,\n",
       "       0.01693327])"
      ]
     },
     "execution_count": 23,
     "metadata": {},
     "output_type": "execute_result"
    },
    {
     "data": {
      "image/png": "[encoded data removed]",
      "text/plain": [
       "<Figure size 432x288 with 2 Axes>"
      ]
     },
     "metadata": {
      "needs_background": "light"
     },
     "output_type": "display_data"
    },
    {
     "data": {
      "image/png": "[encoded data removed]",
      "text/plain": [
       "<Figure size 432x288 with 2 Axes>"
      ]
     },
     "metadata": {
      "needs_background": "light"
     },
     "output_type": "display_data"
    },
    {
     "data": {
      "image/png": "[encoded data removed]",
      "text/plain": [
       "<Figure size 432x288 with 2 Axes>"
      ]
     },
     "metadata": {
      "needs_background": "light"
     },
     "output_type": "display_data"
    },
    {
     "data": {
      "image/png": "[encoded data removed]",
      "text/plain": [
       "<Figure size 432x288 with 2 Axes>"
      ]
     },
     "metadata": {
      "needs_background": "light"
     },
     "output_type": "display_data"
    },
    {
     "data": {
      "image/png": "[encoded data removed]",
      "text/plain": [
       "<Figure size 432x288 with 2 Axes>"
      ]
     },
     "metadata": {
      "needs_background": "light"
     },
     "output_type": "display_data"
    },
    {
     "data": {
      "image/png": "[encoded data removed]",
      "text/plain": [
       "<Figure size 432x288 with 2 Axes>"
      ]
     },
     "metadata": {
      "needs_background": "light"
     },
     "output_type": "display_data"
    },
    {
     "data": {
      "image/png": "[encoded data removed]",
      "text/plain": [
       "<Figure size 432x288 with 2 Axes>"
      ]
     },
     "metadata": {
      "needs_background": "light"
     },
     "output_type": "display_data"
    },
    {
     "data": {
      "image/png": "[encoded data removed]",
      "text/plain": [
       "<Figure size 432x288 with 2 Axes>"
      ]
     },
     "metadata": {
      "needs_background": "light"
     },
     "output_type": "display_data"
    },
    {
     "data": {
      "image/png": "[encoded data removed]",
      "text/plain": [
       "<Figure size 432x288 with 2 Axes>"
      ]
     },
     "metadata": {
      "needs_background": "light"
     },
     "output_type": "display_data"
    },
    {
     "data": {
      "image/png": "[encoded data removed]",
      "text/plain": [
       "<Figure size 432x288 with 2 Axes>"
      ]
     },
     "metadata": {
      "needs_background": "light"
     },
     "output_type": "display_data"
    }
   ],
   "source": [
    "Adam(A_ns, v_ns, q_ns, learning_rate=0.1, beta1=0.9, beta2=0.999, epsilon=1e-8, max_iter=100000)"
   ]
  },
  {
   "cell_type": "code",
   "execution_count": 24,
   "metadata": {},
   "outputs": [
    {
     "data": {
      "text/plain": [
       "<matplotlib.legend.Legend at 0x7fe771eedb80>"
      ]
     },
     "execution_count": 24,
     "metadata": {},
     "output_type": "execute_result"
    },
    {
     "data": {
      "image/png": "[encoded data removed]",
      "text/plain": [
       "<Figure size 432x288 with 2 Axes>"
      ]
     },
     "metadata": {
      "needs_background": "light"
     },
     "output_type": "display_data"
    }
   ],
   "source": [
    "# Reshape q to a 2D grid\n",
    "q_ns_grid = q_ns.reshape((g, g))\n",
    "\n",
    "# Plot the heatmap using imshow with extent specified\n",
    "plt.imshow(q_ns_grid, origin='lower', cmap='Greys', extent=[0, 10, 0, 10])\n",
    "plt.colorbar(label='[Sv/h]')  # Add a colorbar to show the scale\n",
    "\n",
    "for l in correct_list:\n",
    "    plt.scatter(l[0],l[1], color='red', s=25,label='Radiation Source')\n",
    "\n",
    "# Add labels and title\n",
    "plt.xlabel('x [m]')\n",
    "plt.ylabel('y [m]')\n",
    "plt.legend()"
   ]
  },
  {
   "cell_type": "code",
   "execution_count": 25,
   "metadata": {},
   "outputs": [
    {
     "name": "stdout",
     "output_type": "stream",
     "text": [
      "22.46339628271653\n"
     ]
    }
   ],
   "source": [
    "print(sum(q_ns))"
   ]
  },
  {
   "cell_type": "markdown",
   "metadata": {},
   "source": [
    "## L1ノルム"
   ]
  },
  {
   "cell_type": "code",
   "execution_count": 26,
   "metadata": {},
   "outputs": [],
   "source": [
    "def calculate_L1(t,q):\n",
    "    sum = 0\n",
    "    for i in range(len(q)):\n",
    "        sum += abs(t[i]-q[i])\n",
    "\n",
    "    return sum"
   ]
  },
  {
   "cell_type": "code",
   "execution_count": 27,
   "metadata": {},
   "outputs": [
    {
     "name": "stdout",
     "output_type": "stream",
     "text": [
      "[[(1007, 0.1767766952966369), (1008, 0.1767766952966369), (1047, 0.1767766952966369), (1048, 0.1767766952966369)]]\n",
      "[(1007, 0.1767766952966369), (1008, 0.1767766952966369), (1047, 0.1767766952966369), (1048, 0.1767766952966369)]\n",
      "1.875 6.625\n"
     ]
    }
   ],
   "source": [
    "t = np.array([0]*G)\n",
    "near_i = calculate_nearest_i(g, correct_list)\n",
    "print(near_i)\n",
    "for j in range(len(correct_list)):\n",
    "    l = near_i[j]\n",
    "    print(l)\n",
    "    z = len(l)\n",
    "    t_prime = correct_list[j][2] / z\n",
    "    for i in l:#それぞれの放射線源の最近傍点\n",
    "        t[i[0]] = t_prime\n",
    "\n",
    "nearest_x = (1047 % g)*d + d/2\n",
    "nearest_y = (1047//g)*d + d/2\n",
    "print(nearest_x,nearest_y)"
   ]
  },
  {
   "cell_type": "code",
   "execution_count": 28,
   "metadata": {},
   "outputs": [
    {
     "data": {
      "text/plain": [
       "<matplotlib.legend.Legend at 0x7fe7721daca0>"
      ]
     },
     "execution_count": 28,
     "metadata": {},
     "output_type": "execute_result"
    },
    {
     "data": {
      "image/png": "[encoded data removed]",
      "text/plain": [
       "<Figure size 432x288 with 2 Axes>"
      ]
     },
     "metadata": {
      "needs_background": "light"
     },
     "output_type": "display_data"
    }
   ],
   "source": [
    "# Reshape q to a 2D grid\n",
    "t_grid = t.reshape((g, g))\n",
    "\n",
    "# Plot the heatmap using imshow with extent specified\n",
    "plt.imshow(t_grid, origin='lower', cmap='Greys', extent=[0, 10, 0, 10])\n",
    "plt.colorbar(label='[Sv/h]')  # Add a colorbar to show the scale\n",
    "\n",
    "for l in correct_list:\n",
    "    plt.scatter(l[0],l[1], color='red', s=25,label='Radiation Source')\n",
    "\n",
    "# Add labels and title\n",
    "plt.xlabel('x [m]')\n",
    "plt.ylabel('y [m]')\n",
    "plt.legend()"
   ]
  },
  {
   "cell_type": "code",
   "execution_count": 29,
   "metadata": {},
   "outputs": [
    {
     "data": {
      "text/plain": [
       "<matplotlib.legend.Legend at 0x7fe76fe2a0d0>"
      ]
     },
     "execution_count": 29,
     "metadata": {},
     "output_type": "execute_result"
    },
    {
     "data": {
      "image/png": "[encoded data removed]",
      "text/plain": [
       "<Figure size 432x288 with 2 Axes>"
      ]
     },
     "metadata": {
      "needs_background": "light"
     },
     "output_type": "display_data"
    }
   ],
   "source": [
    "# Reshape q to a 2D grid\n",
    "q_grid = q.reshape((g, g))\n",
    "\n",
    "# Plot the heatmap using imshow with extent specified\n",
    "plt.imshow(q_grid, origin='lower', cmap='Greys', extent=[0, 10, 0, 10])\n",
    "plt.colorbar(label='[Sv/h]')  # Add a colorbar to show the scale\n",
    "\n",
    "for l in correct_list:\n",
    "    plt.scatter(l[0],l[1], color='red',s=25,label='Radiation Source')\n",
    "\n",
    "# Add labels and title\n",
    "plt.xlabel('x [m]')\n",
    "plt.ylabel('y [m]')\n",
    "plt.legend()"
   ]
  },
  {
   "cell_type": "code",
   "execution_count": 30,
   "metadata": {},
   "outputs": [
    {
     "name": "stdout",
     "output_type": "stream",
     "text": [
      "22 7.685125977494784\n"
     ]
    }
   ],
   "source": [
    "print(t[1047],q[1047])"
   ]
  },
  {
   "cell_type": "code",
   "execution_count": 31,
   "metadata": {},
   "outputs": [
    {
     "name": "stdout",
     "output_type": "stream",
     "text": [
      "108.42775473900667\n"
     ]
    }
   ],
   "source": [
    "proposed_l1 = calculate_L1(t,q)\n",
    "print(proposed_l1)"
   ]
  },
  {
   "cell_type": "code",
   "execution_count": 32,
   "metadata": {},
   "outputs": [
    {
     "name": "stdout",
     "output_type": "stream",
     "text": [
      "110.39927881743586\n"
     ]
    }
   ],
   "source": [
    "minamoto_l1 = calculate_L1(t,q_ns)\n",
    "print(minamoto_l1)"
   ]
  },
  {
   "cell_type": "markdown",
   "metadata": {},
   "source": [
    "## NMS"
   ]
  },
  {
   "cell_type": "code",
   "execution_count": 33,
   "metadata": {},
   "outputs": [
    {
     "data": {
      "image/png": "[encoded data removed]",
      "text/plain": [
       "<Figure size 432x288 with 2 Axes>"
      ]
     },
     "metadata": {
      "needs_background": "light"
     },
     "output_type": "display_data"
    },
    {
     "data": {
      "image/png": "[encoded data removed]",
      "text/plain": [
       "<Figure size 432x288 with 2 Axes>"
      ]
     },
     "metadata": {
      "needs_background": "light"
     },
     "output_type": "display_data"
    }
   ],
   "source": [
    "def non_max_suppression(grid, window_size):\n",
    "    suppressed_grid = np.zeros_like(grid)\n",
    "\n",
    "    for i in range(grid.shape[0] - window_size + 1):\n",
    "        for j in range(grid.shape[1] - window_size + 1):\n",
    "            window = grid[i:i+window_size, j:j+window_size]\n",
    "            \n",
    "            # Find the maximum value in the window\n",
    "            max_value = np.max(window)\n",
    "            \n",
    "            # Set the maximum value to the result grid, add others to it\n",
    "            suppressed_grid[i:i+window_size, j:j+window_size] += (window == max_value) * max_value\n",
    "\n",
    "    return suppressed_grid\n",
    "\n",
    "# Apply non-maximum suppression with a 3x3 window\n",
    "suppressed_result = non_max_suppression(q_grid, window_size=3)\n",
    "\n",
    "plt.imshow(q_grid, origin='lower', cmap='Greys', interpolation='nearest')\n",
    "plt.title('Original Grid')\n",
    "plt.colorbar(label='[Sv/h]')  # Add a colorbar to show the scale\n",
    "plt.show()\n",
    "\n",
    "plt.imshow(suppressed_result, origin='lower', cmap='Greys', interpolation='nearest')\n",
    "plt.title('After Non-Maximum Suppression')\n",
    "plt.colorbar(label='[Sv/h]')  # Add a colorbar to show the scale\n",
    "\n",
    "plt.show()\n",
    "\n"
   ]
  },
  {
   "cell_type": "code",
   "execution_count": null,
   "metadata": {},
   "outputs": [],
   "source": []
  },
  {
   "cell_type": "code",
   "execution_count": null,
   "metadata": {},
   "outputs": [],
   "source": []
  },
  {
   "cell_type": "code",
   "execution_count": null,
   "metadata": {},
   "outputs": [],
   "source": []
  }
 ],
 "metadata": {
  "kernelspec": {
   "display_name": "Python 3",
   "language": "python",
   "name": "python3"
  },
  "language_info": {
   "codemirror_mode": {
    "name": "ipython",
    "version": 3
   },
   "file_extension": ".py",
   "mimetype": "text/x-python",
   "name": "python",
   "nbconvert_exporter": "python",
   "pygments_lexer": "ipython3",
   "version": "3.8.10"
  }
 },
 "nbformat": 4,
 "nbformat_minor": 2
}
