{
  "cells": [
    {
      "cell_type": "code",
      "execution_count": 1,
      "metadata": {
        "id": "RS6cPvuNkymr"
      },
      "outputs": [],
      "source": [
        "import numpy as np\n",
        "import scipy.stats as stats\n",
        "import matplotlib.pyplot as plt\n",
        "from typing import List, Tuple, Union\n",
        "from dataclasses import dataclass\n",
        "from scipy.spatial import distance"
      ]
    },
    {
      "cell_type": "code",
      "execution_count": 2,
      "metadata": {
        "id": "ksTLAgFKkymw"
      },
      "outputs": [],
      "source": [
        "@dataclass\n",
        "class Source:\n",
        "    \"\"\"\n",
        "    Create point radiation source.\n",
        "\n",
        "    Examples\n",
        "    --------\n",
        "    >>> Source([1, 2, 3], 2.0)\n",
        "    Source(loc=[1, 2, 3], intensity=2.0)\n",
        "    \"\"\"\n",
        "\n",
        "    #: Location of the radiation source such that [x, y, z] [m].\n",
        "    loc: List[float]\n",
        "    #: Intensity of the radiation source [MBq]. (default is 1.0)\n",
        "    intensity: float = 1.0\n",
        "\n",
        "\n",
        "@dataclass\n",
        "class AreaSource:\n",
        "    \"\"\"\n",
        "    Create area radiation source. The shape is only square at this moment,\n",
        "    and normal vector is along the z-axis.\n",
        "\n",
        "    Examples\n",
        "    --------\n",
        "    >>> AreaSource([1, 2, 3], 2.0)\n",
        "    AreaSource(bl_loc=[1, 2, 3], width=2.0, intensity=1.0, div_num=20)\n",
        "    \"\"\"\n",
        "\n",
        "    #: Location of the bottom left of the radiation source such that [x, y, z] [m].\n",
        "    bl_loc: List[float]\n",
        "    #: Width of the square radiation area source [m].\n",
        "    width: float\n",
        "    #: Intensity of the radiation source [MBq]. (default is 1.0)\n",
        "    intensity: float = 1.0\n",
        "    #: Area source is divided into div_num*div_num point sources. (default is 20)\n",
        "    div_num: int = 20\n",
        "\n",
        "\n",
        "@dataclass\n",
        "class Detector:\n",
        "    \"\"\"\n",
        "    Create radiation detector. The detector only measures count.\n",
        "\n",
        "    Examples\n",
        "    --------\n",
        "    >>> Detector([1, 2, 3], 2.0)\n",
        "    Detector(loc=[1, 2, 3], duration=2.0, factor=5)\n",
        "    \"\"\"\n",
        "\n",
        "    #: Location of the detector such that [x, y, z] [m].\n",
        "    loc: List[float]\n",
        "    #: Measurement time of the detector `t` [s]. (default is 10)\n",
        "    duration: float = 10\n",
        "    #: Factor to consider counting efficiency, size, etc. `f` (default is 5)\n",
        "    #: `mu` of Poisson distribution is calculated as follows:\n",
        "    #: `mu` = `ftq`/`d^2`,\n",
        "    #: where `d` is the distance between the detector and sources.\n",
        "    factor: float = 5\n",
        "\n",
        "\n",
        "class World(object):\n",
        "    \"\"\"\n",
        "    Create world for adding radiation sources and detectors.\n",
        "    \"\"\"\n",
        "\n",
        "    def __init__(self):\n",
        "        self.sources: List[Source] = []\n",
        "\n",
        "    def __repr__(self) -> str:\n",
        "        repr_str = f\"{self.__class__}: contains {len(self.sources)} sources.\\n\"\n",
        "        src_str = \",\\n \".join([str(it) for it in self.sources])\n",
        "        repr_str = f\"{repr_str}[\\n {src_str}\\n]\"\n",
        "        return repr_str\n",
        "\n",
        "    def add_source(self, source: Source):\n",
        "        \"\"\"\n",
        "        Add radiation point source.\n",
        "\n",
        "        Parameters\n",
        "        ----------\n",
        "        source: Source\n",
        "            Radiation point source.\n",
        "        \"\"\"\n",
        "        self.sources.append(source)\n",
        "\n",
        "    def add_area_source(self, source: AreaSource):\n",
        "        \"\"\"\n",
        "        Add radiation area source.\n",
        "        Internally, area source is converted multiple point sources.\n",
        "\n",
        "        Parameters\n",
        "        ----------\n",
        "        source: AreaSource\n",
        "            Radiation area source.\n",
        "        \"\"\"\n",
        "\n",
        "        # bottom left location\n",
        "        bl = source.bl_loc\n",
        "        q = source.intensity / source.div_num ** 2\n",
        "        x_lin = np.linspace(bl[0], bl[0] + source.width, source.div_num)\n",
        "        y_lin = np.linspace(bl[1], bl[1] + source.width, source.div_num)\n",
        "        x_grid, y_grid = np.meshgrid(x_lin, y_lin)\n",
        "        for x, y in zip(x_grid.flatten(), y_grid.flatten()):\n",
        "            self.add_source(Source(loc=[x, y, bl[2]], intensity=q))\n",
        "\n",
        "    def get_measuments(self, detectors: Union[List[Detector], Detector]) -> np.ndarray:\n",
        "        \"\"\"\n",
        "        Get measurement without background noise.\n",
        "        Internally, area source is converted multiple point sources.\n",
        "\n",
        "        Parameters\n",
        "        ----------\n",
        "        detectors: List[Detector]\n",
        "            List of detectors.\n",
        "\n",
        "        Returns\n",
        "        -------\n",
        "        counts: ndarray\n",
        "            Counts measured by the detectors\n",
        "        \"\"\"\n",
        "        # To list if detectors is Detector class\n",
        "        if not isinstance(detectors, list):\n",
        "            detectors = [detectors]\n",
        "\n",
        "        # detectors loc\n",
        "        locs = np.stack([d.loc for d in detectors])\n",
        "\n",
        "        # detector factors\n",
        "        factors = np.stack([d.duration * d.factor for d in detectors])\n",
        "\n",
        "        # sources\n",
        "        srcs = np.stack([src.loc for src in self.sources])\n",
        "\n",
        "        # intensity\n",
        "        q = np.array([src.intensity for src in self.sources])\n",
        "\n",
        "        dist = distance.cdist(locs, srcs)\n",
        "        assert not np.any(\n",
        "            dist == 0\n",
        "        ), \"zero division. Distance between source and detector should not be zero\"\n",
        "\n",
        "        # mu for possion distribution\n",
        "        mu = factors[..., np.newaxis] * q[np.newaxis, :] / dist ** 2\n",
        "\n",
        "        # sum of possion distribution is possion distribution\n",
        "        mu = mu.sum(axis=1)\n",
        "\n",
        "        # measument counts\n",
        "        counts = stats.poisson.rvs(mu)\n",
        "        if not isinstance(counts, np.ndarray):\n",
        "            # if len(detectors) == 1\n",
        "            counts = np.array([counts])\n",
        "\n",
        "        return counts\n",
        "\n",
        "    def visualize_world(\n",
        "        self,\n",
        "        detectors: List[Detector] = [],\n",
        "        figsize: Tuple[float, float] = (8, 8),\n",
        "        plotsize: float = 10,\n",
        "    ) -> plt.Axes:\n",
        "        \"\"\"\n",
        "        Visualize radiation sources and detectors in world (X-Y plane).\n",
        "\n",
        "        Parameters\n",
        "        ----------\n",
        "        detectors: List[Detector]\n",
        "            List of detectors to be visualized. (default is [])\n",
        "        figsize: tuple(float, float)\n",
        "            figsize for plot.\n",
        "        plotsize: float\n",
        "            Plot in xy plane [-plotsize, plotsize] x [-plotsize, plotsize]\n",
        "\n",
        "        Returns\n",
        "        -------\n",
        "        ax: plt.Axes\n",
        "            Matplotlib axes\n",
        "        \"\"\"\n",
        "\n",
        "        # Setup plot area\n",
        "        fig = plt.figure(figsize=figsize)\n",
        "        ax = fig.add_subplot(111)\n",
        "        ax.plot(\n",
        "            [plotsize, plotsize, -plotsize, -plotsize],\n",
        "            [plotsize, -plotsize, plotsize, -plotsize],\n",
        "            \"wd\",\n",
        "        )\n",
        "        ax.plot([0], [0], \"rd\")\n",
        "        ax.set_aspect(\"equal\")\n",
        "        detec_msg = \"Detector (x)\" if len(detectors) > 0 else \"\"\n",
        "        ax.set_title(f\"X (horizontal), Y (vertical), Origin (red dot) {detec_msg}\")\n",
        "\n",
        "        # Visualize sources\n",
        "        x = []\n",
        "        y = []\n",
        "        c = []\n",
        "        for src in self.sources:\n",
        "            x.append(src.loc[0])\n",
        "            y.append(src.loc[1])\n",
        "            c.append(src.intensity)\n",
        "\n",
        "        sc = ax.scatter(x, y, s=100, c=c, cmap=plt.cm.jet)\n",
        "        _ = fig.colorbar(sc, orientation=\"horizontal\")\n",
        "\n",
        "        # Visualize detectors if not empty\n",
        "        x_detec = []\n",
        "        y_detec = []\n",
        "        for d in detectors:\n",
        "            x_detec.append(d.loc[0])\n",
        "            y_detec.append(d.loc[1])\n",
        "        ax.plot(x_detec, y_detec, \"bx\")\n",
        "\n",
        "        return ax"
      ]
    },
    {
      "cell_type": "code",
      "execution_count": 3,
      "metadata": {
        "colab": {
          "base_uri": "https://localhost:8080/",
          "height": 554
        },
        "id": "Qlv0yr0zkymx",
        "outputId": "3b5cd290-8a6b-4efe-c175-96965ba53792"
      },
      "outputs": [
        {
          "data": {
            "image/png": "[encoded data removed]",
            "text/plain": [
              "<Figure size 576x576 with 2 Axes>"
            ]
          },
          "metadata": {
            "needs_background": "light"
          },
          "output_type": "display_data"
        }
      ],
      "source": [
        "# Construct world\n",
        "world = World()\n",
        "world.add_source(Source(loc=[5,8,0], intensity=1))\n",
        "# world.add_source(Source(loc=np.array([1,1,0.1]), intensity=0.3))\n",
        "world.add_source(Source(loc=[-7,-2,0], intensity=2.3))\n",
        "world.add_source(Source(loc=[-5.5,-2,0], intensity=1.3))\n",
        "\n",
        "ax = world.visualize_world()"
      ]
    },
    {
      "cell_type": "code",
      "execution_count": 4,
      "metadata": {
        "id": "DnQdS76okymx"
      },
      "outputs": [],
      "source": [
        "# # Construct world\n",
        "# world = World()\n",
        "# world.add_source(Source(loc=np.array([5,9,0]), intensity=1))\n",
        "# # world.add_source(Source(loc=np.array([1,1,0.1]), intensity=0.3))\n",
        "# world.add_source(Source(loc=np.array([-7,-2,0]), intensity=0.6))\n",
        "# world.add_source(Source(loc=np.array([-5.5,-2,0]), intensity=0.5))\n",
        "\n",
        "# # # Set area source\n",
        "# world.add_area_source(AreaSource([2., -10], width=5, intensity=3.5))\n",
        "# world.add_area_source(AreaSource([-8., 2], width=3, intensity=3))\n",
        "\n",
        "# ax = world.visualize_world()"
      ]
    },
    {
      "cell_type": "code",
      "execution_count": 5,
      "metadata": {
        "id": "ybaBEguJkymy"
      },
      "outputs": [],
      "source": [
        "# Set detectors\n",
        "div_num = 20\n",
        "x_lin = np.linspace(-10, 10, div_num)\n",
        "y_lin = np.linspace(10, -10, div_num)\n",
        "x_grid, y_grid = np.meshgrid(x_lin, y_lin)\n",
        "\n",
        "# Constant height\n",
        "z = 1.5\n",
        "detectors = []\n",
        "for x, y in zip(x_grid.flatten(), y_grid.flatten()):\n",
        "    detectors.append(Detector(loc=[x, y, z]))"
      ]
    },
    {
      "cell_type": "code",
      "execution_count": 6,
      "metadata": {
        "colab": {
          "base_uri": "https://localhost:8080/",
          "height": 301
        },
        "id": "sMvxjKh9kymy",
        "outputId": "3e33cf5b-4e6d-4bad-8388-ea919db68691"
      },
      "outputs": [
        {
          "name": "stdout",
          "output_type": "stream",
          "text": [
            "max_count: 77\n"
          ]
        },
        {
          "data": {
            "text/plain": [
              "<matplotlib.image.AxesImage at 0x7f8a87755c70>"
            ]
          },
          "execution_count": 6,
          "metadata": {},
          "output_type": "execute_result"
        },
        {
          "data": {
            "image/png": "[encoded data removed]",
            "text/plain": [
              "<Figure size 432x288 with 1 Axes>"
            ]
          },
          "metadata": {
            "needs_background": "light"
          },
          "output_type": "display_data"
        }
      ],
      "source": [
        "cnts = world.get_measuments(detectors)\n",
        "print(f\"max_count: {cnts.max()}\")\n",
        "viz = cnts.reshape(div_num, div_num)\n",
        "plt.imshow(viz, vmin=0, vmax=np.percentile(cnts, 99))"
      ]
    },
    {
      "cell_type": "markdown",
      "metadata": {
        "id": "i-ZOAzKbkymy"
      },
      "source": [
        "# Estimation of ground surface radiation sources from dose map measured by moving dosimeter and 3D map\n",
        "10.1109/IROS.2014.6942811"
      ]
    },
    {
      "cell_type": "code",
      "execution_count": 7,
      "metadata": {
        "id": "ZSpNBx1ykymy"
      },
      "outputs": [],
      "source": [
        "def generate_grid(W=10, H=10, div_num = 25):\n",
        "    x_lin = np.linspace(-W, W, div_num)\n",
        "    y_lin = np.linspace(H, -H, div_num)\n",
        "    x_grid, y_grid = np.meshgrid(x_lin, y_lin)\n",
        "    return x_grid, y_grid"
      ]
    },
    {
      "cell_type": "code",
      "execution_count": 8,
      "metadata": {
        "colab": {
          "base_uri": "https://localhost:8080/",
          "height": 301
        },
        "id": "UzgIVTwnkymz",
        "outputId": "37c03e7c-91ed-48ab-cc33-26c21c0867aa"
      },
      "outputs": [
        {
          "name": "stdout",
          "output_type": "stream",
          "text": [
            "max_count: 56\n"
          ]
        },
        {
          "data": {
            "text/plain": [
              "<matplotlib.image.AxesImage at 0x7f8a87749b50>"
            ]
          },
          "execution_count": 8,
          "metadata": {},
          "output_type": "execute_result"
        },
        {
          "data": {
            "image/png": "[encoded data removed]",
            "text/plain": [
              "<Figure size 432x288 with 1 Axes>"
            ]
          },
          "metadata": {
            "needs_background": "light"
          },
          "output_type": "display_data"
        }
      ],
      "source": [
        "div_num = 15\n",
        "# Set detectors\n",
        "x_grid, y_grid = generate_grid(W=10, H=10, div_num=div_num)\n",
        "\n",
        "# Constant height\n",
        "z = 1.5\n",
        "detectors = []\n",
        "for x, y in zip(x_grid.flatten(), y_grid.flatten()):\n",
        "    detectors.append(Detector(loc=np.array([x, y, z])))\n",
        "\n",
        "cnts = world.get_measuments(detectors)\n",
        "print(f\"max_count: {cnts.max()}\")\n",
        "viz = cnts.reshape(div_num, div_num)\n",
        "plt.imshow(viz, vmin=0, vmax=np.percentile(cnts, 99))"
      ]
    },
    {
      "cell_type": "code",
      "execution_count": 17,
      "metadata": {
        "id": "lWJZPT1pkymz"
      },
      "outputs": [
        {
          "name": "stdout",
          "output_type": "stream",
          "text": [
            "225\n"
          ]
        }
      ],
      "source": [
        "b_measure = cnts\n",
        "print(len(b_measure))\n",
        "\n",
        "x_b = np.array([it.loc for it in detectors])\n",
        "assert x_b.shape[0] == len(b_measure), 'Number of measument should be equal to number of position'"
      ]
    },
    {
      "cell_type": "code",
      "execution_count": 31,
      "metadata": {
        "id": "nQZxJM_kkymz"
      },
      "outputs": [
        {
          "name": "stdout",
          "output_type": "stream",
          "text": [
            "196\n",
            "225\n",
            "225\n",
            "[[50]\n",
            " [50]\n",
            " [50]\n",
            " [50]\n",
            " [50]\n",
            " [50]\n",
            " [50]\n",
            " [50]\n",
            " [50]\n",
            " [50]\n",
            " [50]\n",
            " [50]\n",
            " [50]\n",
            " [50]\n",
            " [50]\n",
            " [50]\n",
            " [50]\n",
            " [50]\n",
            " [50]\n",
            " [50]\n",
            " [50]\n",
            " [50]\n",
            " [50]\n",
            " [50]\n",
            " [50]\n",
            " [50]\n",
            " [50]\n",
            " [50]\n",
            " [50]\n",
            " [50]\n",
            " [50]\n",
            " [50]\n",
            " [50]\n",
            " [50]\n",
            " [50]\n",
            " [50]\n",
            " [50]\n",
            " [50]\n",
            " [50]\n",
            " [50]\n",
            " [50]\n",
            " [50]\n",
            " [50]\n",
            " [50]\n",
            " [50]\n",
            " [50]\n",
            " [50]\n",
            " [50]\n",
            " [50]\n",
            " [50]\n",
            " [50]\n",
            " [50]\n",
            " [50]\n",
            " [50]\n",
            " [50]\n",
            " [50]\n",
            " [50]\n",
            " [50]\n",
            " [50]\n",
            " [50]\n",
            " [50]\n",
            " [50]\n",
            " [50]\n",
            " [50]\n",
            " [50]\n",
            " [50]\n",
            " [50]\n",
            " [50]\n",
            " [50]\n",
            " [50]\n",
            " [50]\n",
            " [50]\n",
            " [50]\n",
            " [50]\n",
            " [50]\n",
            " [50]\n",
            " [50]\n",
            " [50]\n",
            " [50]\n",
            " [50]\n",
            " [50]\n",
            " [50]\n",
            " [50]\n",
            " [50]\n",
            " [50]\n",
            " [50]\n",
            " [50]\n",
            " [50]\n",
            " [50]\n",
            " [50]\n",
            " [50]\n",
            " [50]\n",
            " [50]\n",
            " [50]\n",
            " [50]\n",
            " [50]\n",
            " [50]\n",
            " [50]\n",
            " [50]\n",
            " [50]\n",
            " [50]\n",
            " [50]\n",
            " [50]\n",
            " [50]\n",
            " [50]\n",
            " [50]\n",
            " [50]\n",
            " [50]\n",
            " [50]\n",
            " [50]\n",
            " [50]\n",
            " [50]\n",
            " [50]\n",
            " [50]\n",
            " [50]\n",
            " [50]\n",
            " [50]\n",
            " [50]\n",
            " [50]\n",
            " [50]\n",
            " [50]\n",
            " [50]\n",
            " [50]\n",
            " [50]\n",
            " [50]\n",
            " [50]\n",
            " [50]\n",
            " [50]\n",
            " [50]\n",
            " [50]\n",
            " [50]\n",
            " [50]\n",
            " [50]\n",
            " [50]\n",
            " [50]\n",
            " [50]\n",
            " [50]\n",
            " [50]\n",
            " [50]\n",
            " [50]\n",
            " [50]\n",
            " [50]\n",
            " [50]\n",
            " [50]\n",
            " [50]\n",
            " [50]\n",
            " [50]\n",
            " [50]\n",
            " [50]\n",
            " [50]\n",
            " [50]\n",
            " [50]\n",
            " [50]\n",
            " [50]\n",
            " [50]\n",
            " [50]\n",
            " [50]\n",
            " [50]\n",
            " [50]\n",
            " [50]\n",
            " [50]\n",
            " [50]\n",
            " [50]\n",
            " [50]\n",
            " [50]\n",
            " [50]\n",
            " [50]\n",
            " [50]\n",
            " [50]\n",
            " [50]\n",
            " [50]\n",
            " [50]\n",
            " [50]\n",
            " [50]\n",
            " [50]\n",
            " [50]\n",
            " [50]\n",
            " [50]\n",
            " [50]\n",
            " [50]\n",
            " [50]\n",
            " [50]\n",
            " [50]\n",
            " [50]\n",
            " [50]\n",
            " [50]\n",
            " [50]\n",
            " [50]\n",
            " [50]\n",
            " [50]\n",
            " [50]\n",
            " [50]\n",
            " [50]\n",
            " [50]\n",
            " [50]\n",
            " [50]\n",
            " [50]\n",
            " [50]\n",
            " [50]\n",
            " [50]\n",
            " [50]\n",
            " [50]\n",
            " [50]\n",
            " [50]\n",
            " [50]\n",
            " [50]\n",
            " [50]\n",
            " [50]\n",
            " [50]\n",
            " [50]\n",
            " [50]\n",
            " [50]\n",
            " [50]\n",
            " [50]\n",
            " [50]\n",
            " [50]\n",
            " [50]\n",
            " [50]\n",
            " [50]\n",
            " [50]\n",
            " [50]\n",
            " [50]\n",
            " [50]\n",
            " [50]\n",
            " [50]]\n",
            "(225, 196)\n"
          ]
        }
      ],
      "source": [
        "# radiation source candidate\n",
        "x_q = []\n",
        "source_div_num = 14\n",
        "x_grid, y_grid = generate_grid(W=10, H=10, div_num=source_div_num)\n",
        "# radiation source should be z = 0\n",
        "x_q = np.stack([x_grid, y_grid, np.zeros_like(x_grid)], axis=-1)\n",
        "x_q = x_q.reshape(-1, 3)\n",
        "print(len(x_q))\n",
        "print(len(x_b))\n",
        "\n",
        "# A matrix in Equation 3\n",
        "dist = distance.cdist(x_b, x_q)\n",
        "print(len(dist))\n",
        "\n",
        "# TODO: Check again later. Might be wrong\n",
        "factors = np.stack([d.duration * d.factor for d in detectors])[:, np.newaxis]\n",
        "print(factors)\n",
        "\n",
        "A = factors/dist**2\n",
        "print(A.shape)"
      ]
    },
    {
      "cell_type": "markdown",
      "metadata": {
        "id": "QfljnGs0kymz"
      },
      "source": [
        "## Optimization\n",
        "### Gradient decent"
      ]
    },
    {
      "cell_type": "code",
      "execution_count": 32,
      "metadata": {
        "id": "BGtrmriakymz"
      },
      "outputs": [],
      "source": [
        "def score_func(q):\n",
        "    global A, b_measure\n",
        "    b_ave = A.dot(q)\n",
        "    score = np.sum(b_measure*np.log(b_ave))-np.sum(b_ave)\n",
        "    return score\n",
        "\n",
        "def grad_func(q):\n",
        "    global A, b_measure\n",
        "    b_ave = A.dot(q)\n",
        "    grad_tmp = (b_measure/b_ave)[:,np.newaxis]*A\n",
        "    grad = grad_tmp.sum(axis=0) - A.sum(axis=0)\n",
        "    return grad"
      ]
    },
    {
      "cell_type": "code",
      "execution_count": 33,
      "metadata": {
        "colab": {
          "base_uri": "https://localhost:8080/"
        },
        "id": "LRcYVe_rkym0",
        "outputId": "b30d8e32-3b40-4f38-d4aa-8d3fba84127b"
      },
      "outputs": [
        {
          "name": "stdout",
          "output_type": "stream",
          "text": [
            "initial score:-1118.8295860956641\n"
          ]
        }
      ],
      "source": [
        "# initial guess for radiation distribution\n",
        "M = x_q.shape[0]\n",
        "q_max = 10\n",
        "q_init = 1/q_max\n",
        "q = np.array([q_init]*M)\n",
        "# b_ave = A.dot(q)\n",
        "# plt.imshow(b_ave.reshape(div_num, div_num))\n",
        "\n",
        "optim_factor = 0.00002\n",
        "init_score = score_func(q)\n",
        "print(f'initial score:{init_score}')"
      ]
    },
    {
      "cell_type": "code",
      "execution_count": 38,
      "metadata": {},
      "outputs": [
        {
          "data": {
            "text/plain": [
              "numpy.ndarray"
            ]
          },
          "execution_count": 38,
          "metadata": {},
          "output_type": "execute_result"
        }
      ],
      "source": [
        "type(q.reshape(source_div_num, source_div_num))"
      ]
    },
    {
      "cell_type": "markdown",
      "metadata": {
        "id": "X5HhL9rWkym0"
      },
      "source": [
        "## SLSQP\n",
        "Sequential (least-squares) quadratic programming (SQP)\n",
        "\n"
      ]
    },
    {
      "cell_type": "code",
      "execution_count": null,
      "metadata": {
        "id": "X5HhL9rWkym0"
      },
      "outputs": [],
      "source": [
        "from scipy import optimize"
      ]
    },
    {
      "cell_type": "code",
      "execution_count": null,
      "metadata": {
        "id": "qWMq3GHPkym1"
      },
      "outputs": [],
      "source": [
        "# initial guess for radiation distribution\n",
        "M = x_q.shape[0]\n",
        "q_max = 10\n",
        "q_init = 1/q_max\n",
        "q = np.array([q_init]*M)\n",
        "\n",
        "# bound\n",
        "lb = [0.000000]*M\n",
        "ub = [np.inf]*M\n",
        "bounds = optimize.Bounds(lb, ub)\n",
        "\n",
        "# method\n",
        "method='SLSQP'\n",
        "options={'disp': True, 'iprint':2}\n",
        "# method='L-BFGS-B'\n",
        "# options={'disp': True, 'iprint':101, 'maxfun': 150000}\n",
        "\n",
        "# method='trust-constr'\n",
        "# options={'disp': True, 'verbose':2}\n",
        "\n",
        "# Formulated as error function\n",
        "inv_score_fun = lambda x:-score_func(x)\n",
        "inv_grad_fun = lambda x:-grad_func(x)"
      ]
    },
    {
      "cell_type": "code",
      "execution_count": null,
      "metadata": {
        "id": "xAf0Oze0kym1"
      },
      "outputs": [],
      "source": [
        "# gradient check\n",
        "for _ in range(3):\n",
        "    rand_q = np.random.rand(M)\n",
        "    err = optimize.check_grad(inv_score_fun, inv_grad_fun, rand_q)\n",
        "    err/=inv_grad_fun(rand_q).mean()\n",
        "    print(f'Error ratio:{err:.4}')"
      ]
    },
    {
      "cell_type": "code",
      "execution_count": null,
      "metadata": {
        "id": "9TeVQIo2kym1"
      },
      "outputs": [],
      "source": [
        "res = optimize.minimize(inv_score_fun, q, method=method, bounds=bounds, options=options)\n",
        "print(res.message)\n",
        "print(f'Final score:{-res.fun}')"
      ]
    },
    {
      "cell_type": "code",
      "execution_count": null,
      "metadata": {
        "id": "ixUDghvDkym1"
      },
      "outputs": [],
      "source": [
        "plt.imshow(res.x.reshape(source_div_num, source_div_num))"
      ]
    },
    {
      "cell_type": "code",
      "execution_count": null,
      "metadata": {
        "id": "PHowPWihkym1"
      },
      "outputs": [],
      "source": [
        "thresh = res.x.max()/10\n",
        "idx = np.where(res.x>thresh)\n",
        "print(f'high intensity location:\\n {x_q[idx[0]]}')\n",
        "plt.imshow((res.x>thresh).reshape(source_div_num, source_div_num))\n",
        "for it in world.sources:\n",
        "    print(it)"
      ]
    }
  ],
  "metadata": {
    "colab": {
      "provenance": []
    },
    "kernelspec": {
      "display_name": "Python 3",
      "language": "python",
      "name": "python3"
    },
    "language_info": {
      "codemirror_mode": {
        "name": "ipython",
        "version": 3
      },
      "file_extension": ".py",
      "mimetype": "text/x-python",
      "name": "python",
      "nbconvert_exporter": "python",
      "pygments_lexer": "ipython3",
      "version": "3.8.10"
    }
  },
  "nbformat": 4,
  "nbformat_minor": 0
}
