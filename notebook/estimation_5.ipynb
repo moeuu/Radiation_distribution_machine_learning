{
 "cells": [
  {
   "cell_type": "code",
   "execution_count": 12,
   "metadata": {},
   "outputs": [],
   "source": [
    "import math\n",
    "import numpy as np\n",
    "import pandas as pd\n",
    "import scipy.stats as stats\n",
    "import matplotlib.pyplot as plt\n",
    "from matplotlib.patches import Rectangle\n",
    "from typing import List, Tuple, Union\n",
    "from dataclasses import dataclass\n",
    "from scipy.spatial import distance"
   ]
  },
  {
   "cell_type": "code",
   "execution_count": 13,
   "metadata": {},
   "outputs": [
    {
     "name": "stdout",
     "output_type": "stream",
     "text": [
      "[[1.0, 1.0, 50.0], [9.0, 1.0, 80.0], [1.0, 9.0, 30.0], [9.0, 9.0, 70.0], [5.0, 5.0, 90.0]]\n"
     ]
    }
   ],
   "source": [
    "rad_measure = pd.read_csv(\"../data/GT/result_5points.csv\")\n",
    "correct_list = []\n",
    "correct_list.append([1.5,1.5,50.0])\n",
    "correct_list.append([8.5,1.5,80.0])\n",
    "correct_list.append([1.5,8.5,30.0])\n",
    "correct_list.append([8.5,8.5,70.0])\n",
    "correct_list.append([4.5,4.5,90.0])\n",
    "print(correct_list)\n",
    "x = rad_measure['x']\n",
    "y = rad_measure['y']\n",
    "attenuation = 0.10177304964539008"
   ]
  },
  {
   "cell_type": "code",
   "execution_count": 14,
   "metadata": {},
   "outputs": [],
   "source": [
    "def calculate_distance(x1, y1, x2, y2):\n",
    "    distance = math.sqrt((x2 - x1)**2 + (y2 - y1)**2)\n",
    "    return distance"
   ]
  },
  {
   "cell_type": "code",
   "execution_count": 15,
   "metadata": {},
   "outputs": [],
   "source": [
    "def calculate_nearest_i(g, correct_list):\n",
    "    nearest_i = []\n",
    "    G = g*g\n",
    "    d=10/g\n",
    "    for l in correct_list:\n",
    "        temp_i = []\n",
    "        temp_i.append((0,100000))\n",
    "        for i in range(G):\n",
    "            temp_x = (i % g)*d + d/2\n",
    "            temp_y = (i//g)*d + d/2\n",
    "            temp_dis = calculate_distance(l[0],l[1],temp_x,temp_y)\n",
    "            if temp_dis < temp_i[0][1]:\n",
    "                temp_i.clear()\n",
    "                temp_i.append((i, temp_dis))\n",
    "            elif temp_dis == temp_i[0][1]:\n",
    "                temp_i.append((i, temp_dis))\n",
    "            else:\n",
    "                pass\n",
    "\n",
    "        nearest_i.append(temp_i)\n",
    "\n",
    "    return nearest_i"
   ]
  },
  {
   "cell_type": "code",
   "execution_count": 16,
   "metadata": {},
   "outputs": [],
   "source": [
    "def calculate_L1(t,q):\n",
    "    sum = 0\n",
    "    for i in range(len(q)):\n",
    "        sum += (t[i]-q[i])\n",
    "\n",
    "    return sum"
   ]
  },
  {
   "cell_type": "code",
   "execution_count": 17,
   "metadata": {},
   "outputs": [
    {
     "ename": "ZeroDivisionError",
     "evalue": "float division by zero",
     "output_type": "error",
     "traceback": [
      "\u001b[0;31m---------------------------------------------------------------------------\u001b[0m",
      "\u001b[0;31mZeroDivisionError\u001b[0m                         Traceback (most recent call last)",
      "\u001b[0;32m/tmp/ipykernel_24182/4051636913.py\u001b[0m in \u001b[0;36m<module>\u001b[0;34m\u001b[0m\n\u001b[1;32m      9\u001b[0m                 \u001b[0mtemp_rad\u001b[0m \u001b[0;34m+=\u001b[0m \u001b[0ml\u001b[0m\u001b[0;34m[\u001b[0m\u001b[0;36m2\u001b[0m\u001b[0;34m]\u001b[0m \u001b[0;34m/\u001b[0m \u001b[0;34m(\u001b[0m\u001b[0mdis\u001b[0m\u001b[0;34m**\u001b[0m\u001b[0;36m2\u001b[0m\u001b[0;34m)\u001b[0m \u001b[0;34m*\u001b[0m \u001b[0mattenuation\u001b[0m\u001b[0;34m\u001b[0m\u001b[0;34m\u001b[0m\u001b[0m\n\u001b[1;32m     10\u001b[0m             \u001b[0;32melse\u001b[0m\u001b[0;34m:\u001b[0m\u001b[0;34m\u001b[0m\u001b[0;34m\u001b[0m\u001b[0m\n\u001b[0;32m---> 11\u001b[0;31m                 \u001b[0mtemp_rad\u001b[0m \u001b[0;34m+=\u001b[0m \u001b[0ml\u001b[0m\u001b[0;34m[\u001b[0m\u001b[0;36m2\u001b[0m\u001b[0;34m]\u001b[0m \u001b[0;34m/\u001b[0m \u001b[0;34m(\u001b[0m\u001b[0mdis\u001b[0m\u001b[0;34m**\u001b[0m\u001b[0;36m2\u001b[0m\u001b[0;34m)\u001b[0m\u001b[0;34m\u001b[0m\u001b[0;34m\u001b[0m\u001b[0m\n\u001b[0m\u001b[1;32m     12\u001b[0m         \u001b[0;32melif\u001b[0m \u001b[0ms_pos\u001b[0m \u001b[0;34m==\u001b[0m \u001b[0;34m'B'\u001b[0m\u001b[0;34m:\u001b[0m\u001b[0;34m\u001b[0m\u001b[0;34m\u001b[0m\u001b[0m\n\u001b[1;32m     13\u001b[0m             \u001b[0;32mif\u001b[0m \u001b[0mx\u001b[0m\u001b[0;34m[\u001b[0m\u001b[0mi\u001b[0m\u001b[0;34m]\u001b[0m \u001b[0;34m<\u001b[0m \u001b[0ml\u001b[0m\u001b[0;34m[\u001b[0m\u001b[0;36m0\u001b[0m\u001b[0;34m]\u001b[0m \u001b[0;32mand\u001b[0m \u001b[0my\u001b[0m\u001b[0;34m[\u001b[0m\u001b[0mi\u001b[0m\u001b[0;34m]\u001b[0m \u001b[0;34m>\u001b[0m \u001b[0ml\u001b[0m\u001b[0;34m[\u001b[0m\u001b[0;36m1\u001b[0m\u001b[0;34m]\u001b[0m\u001b[0;34m:\u001b[0m\u001b[0;34m\u001b[0m\u001b[0;34m\u001b[0m\u001b[0m\n",
      "\u001b[0;31mZeroDivisionError\u001b[0m: float division by zero"
     ]
    }
   ],
   "source": [
    "rad =[]\n",
    "for i in range(len(rad_measure)):\n",
    "    temp_rad = 0\n",
    "    s_pos = rad_measure['shield'][i]\n",
    "    for l in correct_list:\n",
    "        dis = calculate_distance(x[i],y[i],l[0],l[1])\n",
    "        if s_pos == 'A':\n",
    "            if x[i] < l[0] and y[i] < l[1]:\n",
    "                temp_rad += l[2] / (dis**2) * attenuation\n",
    "            else:\n",
    "                temp_rad += l[2] / (dis**2)\n",
    "        elif s_pos == 'B':\n",
    "            if x[i] < l[0] and y[i] > l[1]:\n",
    "                temp_rad += l[2] / (dis**2) * attenuation\n",
    "            else:\n",
    "                temp_rad += l[2] / (dis**2)\n",
    "        elif s_pos == 'C':\n",
    "            if x[i] > l[0] and y[i] > l[1]:\n",
    "                temp_rad += l[2] / (dis**2) * attenuation\n",
    "            else:\n",
    "                temp_rad += l[2] / (dis**2)\n",
    "        elif s_pos == 'D':\n",
    "            if x[i] > l[0] and y[i] < l[1]:\n",
    "                temp_rad += l[2] / (dis**2) * attenuation\n",
    "            else:\n",
    "                temp_rad += l[2] / (dis**2)\n",
    "\n",
    "    rad.append(temp_rad)"
   ]
  },
  {
   "cell_type": "code",
   "execution_count": 18,
   "metadata": {},
   "outputs": [
    {
     "ename": "ZeroDivisionError",
     "evalue": "float division by zero",
     "output_type": "error",
     "traceback": [
      "\u001b[0;31m---------------------------------------------------------------------------\u001b[0m",
      "\u001b[0;31mZeroDivisionError\u001b[0m                         Traceback (most recent call last)",
      "\u001b[0;32m/tmp/ipykernel_24182/2029623304.py\u001b[0m in \u001b[0;36m<module>\u001b[0;34m\u001b[0m\n\u001b[1;32m     10\u001b[0m         \u001b[0;32mfor\u001b[0m \u001b[0ml\u001b[0m \u001b[0;32min\u001b[0m \u001b[0mcorrect_list\u001b[0m\u001b[0;34m:\u001b[0m\u001b[0;34m\u001b[0m\u001b[0;34m\u001b[0m\u001b[0m\n\u001b[1;32m     11\u001b[0m             \u001b[0mdis\u001b[0m \u001b[0;34m=\u001b[0m \u001b[0mcalculate_distance\u001b[0m\u001b[0;34m(\u001b[0m\u001b[0mx\u001b[0m\u001b[0;34m[\u001b[0m\u001b[0mi\u001b[0m\u001b[0;34m]\u001b[0m\u001b[0;34m,\u001b[0m\u001b[0my\u001b[0m\u001b[0;34m[\u001b[0m\u001b[0mi\u001b[0m\u001b[0;34m]\u001b[0m\u001b[0;34m,\u001b[0m\u001b[0ml\u001b[0m\u001b[0;34m[\u001b[0m\u001b[0;36m0\u001b[0m\u001b[0;34m]\u001b[0m\u001b[0;34m,\u001b[0m\u001b[0ml\u001b[0m\u001b[0;34m[\u001b[0m\u001b[0;36m1\u001b[0m\u001b[0;34m]\u001b[0m\u001b[0;34m)\u001b[0m\u001b[0;34m\u001b[0m\u001b[0;34m\u001b[0m\u001b[0m\n\u001b[0;32m---> 12\u001b[0;31m             \u001b[0mtemp_rad\u001b[0m \u001b[0;34m+=\u001b[0m \u001b[0ml\u001b[0m\u001b[0;34m[\u001b[0m\u001b[0;36m2\u001b[0m\u001b[0;34m]\u001b[0m \u001b[0;34m/\u001b[0m \u001b[0;34m(\u001b[0m\u001b[0mdis\u001b[0m\u001b[0;34m**\u001b[0m\u001b[0;36m2\u001b[0m\u001b[0;34m)\u001b[0m\u001b[0;34m\u001b[0m\u001b[0;34m\u001b[0m\u001b[0m\n\u001b[0m\u001b[1;32m     13\u001b[0m \u001b[0;34m\u001b[0m\u001b[0m\n\u001b[1;32m     14\u001b[0m         \u001b[0mrad_ns\u001b[0m\u001b[0;34m.\u001b[0m\u001b[0mappend\u001b[0m\u001b[0;34m(\u001b[0m\u001b[0mtemp_rad\u001b[0m\u001b[0;34m)\u001b[0m\u001b[0;34m\u001b[0m\u001b[0;34m\u001b[0m\u001b[0m\n",
      "\u001b[0;31mZeroDivisionError\u001b[0m: float division by zero"
     ]
    }
   ],
   "source": [
    "rad_ns =[]\n",
    "x_ns =[]\n",
    "y_ns =[]\n",
    "for i in range(len(rad_measure)):\n",
    "    if i % 4 == 0:\n",
    "        x_ns.append(rad_measure['x'][i])\n",
    "        y_ns.append(rad_measure['y'][i])\n",
    "        temp_rad = 0\n",
    "        s_pos = rad_measure['shield'][i]\n",
    "        for l in correct_list:\n",
    "            dis = calculate_distance(x[i],y[i],l[0],l[1])\n",
    "            temp_rad += l[2] / (dis**2)\n",
    "\n",
    "        rad_ns.append(temp_rad)"
   ]
  },
  {
   "cell_type": "code",
   "execution_count": 19,
   "metadata": {},
   "outputs": [
    {
     "data": {
      "image/png": "[encoded data removed]",
      "text/plain": [
       "<Figure size 720x720 with 1 Axes>"
      ]
     },
     "metadata": {
      "needs_background": "light"
     },
     "output_type": "display_data"
    }
   ],
   "source": [
    "plt.figure(figsize=(10, 10))\n",
    "\n",
    "plt.scatter(x_ns, y_ns,color='blue',label='Measurement points')\n",
    "plt.xlabel('x [m]')\n",
    "plt.ylabel('y [m]')\n",
    "\n",
    "plt.xlim(0,10)\n",
    "plt.ylim(0,10)\n",
    "i = 0\n",
    "for l in correct_list:\n",
    "    if i == 0:\n",
    "        plt.scatter(l[0],l[1], color='red', label='Radiation Source')\n",
    "    else:\n",
    "        plt.scatter(l[0],l[1], color='red')\n",
    "    i += 1\n",
    "\n",
    "plt.grid(True, linestyle='--', linewidth=1, alpha=0.5)\n",
    "plt.legend()\n",
    "plt.show()"
   ]
  },
  {
   "cell_type": "markdown",
   "metadata": {},
   "source": [
    "# MLE"
   ]
  },
  {
   "cell_type": "code",
   "execution_count": 6,
   "metadata": {},
   "outputs": [
    {
     "ename": "NameError",
     "evalue": "name 'rad' is not defined",
     "output_type": "error",
     "traceback": [
      "\u001b[0;31m---------------------------------------------------------------------------\u001b[0m",
      "\u001b[0;31mNameError\u001b[0m                                 Traceback (most recent call last)",
      "\u001b[0;32m/tmp/ipykernel_24182/1347981066.py\u001b[0m in \u001b[0;36m<module>\u001b[0;34m\u001b[0m\n\u001b[1;32m      1\u001b[0m \u001b[0;31m#計測値\u001b[0m\u001b[0;34m\u001b[0m\u001b[0;34m\u001b[0m\u001b[0;34m\u001b[0m\u001b[0m\n\u001b[0;32m----> 2\u001b[0;31m \u001b[0mb\u001b[0m \u001b[0;34m=\u001b[0m \u001b[0mnp\u001b[0m\u001b[0;34m.\u001b[0m\u001b[0marray\u001b[0m\u001b[0;34m(\u001b[0m\u001b[0mrad\u001b[0m\u001b[0;34m)\u001b[0m\u001b[0;34m\u001b[0m\u001b[0;34m\u001b[0m\u001b[0m\n\u001b[0m\u001b[1;32m      3\u001b[0m \u001b[0;31m#grid 20*20\u001b[0m\u001b[0;34m\u001b[0m\u001b[0;34m\u001b[0m\u001b[0;34m\u001b[0m\u001b[0m\n\u001b[1;32m      4\u001b[0m \u001b[0mg\u001b[0m \u001b[0;34m=\u001b[0m \u001b[0;36m40\u001b[0m\u001b[0;34m\u001b[0m\u001b[0;34m\u001b[0m\u001b[0m\n\u001b[1;32m      5\u001b[0m \u001b[0md\u001b[0m \u001b[0;34m=\u001b[0m \u001b[0;36m10\u001b[0m\u001b[0;34m/\u001b[0m\u001b[0mg\u001b[0m\u001b[0;34m\u001b[0m\u001b[0;34m\u001b[0m\u001b[0m\n",
      "\u001b[0;31mNameError\u001b[0m: name 'rad' is not defined"
     ]
    }
   ],
   "source": [
    "#計測値\n",
    "b = np.array(rad)\n",
    "#grid 20*20\n",
    "g = 40\n",
    "d = 10/g\n",
    "G = g*g\n",
    "q_max = 100\n",
    "q_init = 1/q_max\n",
    "q = np.array([q_init]*G)\n",
    "q = q.astype(float)"
   ]
  }
 ],
 "metadata": {
  "kernelspec": {
   "display_name": "Python 3",
   "language": "python",
   "name": "python3"
  },
  "language_info": {
   "codemirror_mode": {
    "name": "ipython",
    "version": 3
   },
   "file_extension": ".py",
   "mimetype": "text/x-python",
   "name": "python",
   "nbconvert_exporter": "python",
   "pygments_lexer": "ipython3",
   "version": "3.8.10"
  }
 },
 "nbformat": 4,
 "nbformat_minor": 2
}
