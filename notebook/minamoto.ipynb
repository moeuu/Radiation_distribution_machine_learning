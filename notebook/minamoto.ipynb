{
 "cells": [
  {
   "cell_type": "code",
   "execution_count": 3,
   "metadata": {},
   "outputs": [],
   "source": [
    "import numpy as np\n",
    "import scipy.stats as stats\n",
    "import matplotlib.pyplot as plt\n",
    "import pandas as pd\n",
    "from typing import List, Tuple, Union\n",
    "from dataclasses import dataclass\n",
    "from scipy.spatial import distance"
   ]
  },
  {
   "cell_type": "code",
   "execution_count": 6,
   "metadata": {},
   "outputs": [],
   "source": [
    "@dataclass\n",
    "class Source:\n",
    "    loc: List[float]\n",
    "    intensity : float\n",
    "\n",
    "class World(object):\n",
    "\n",
    "    def __init__(self):\n",
    "        self.sources: List[Source] = []\n",
    "\n",
    "    def add_source(self, source: Source):\n",
    "        self.sources.append(source)\n",
    "\n",
    "    def visualize_world(\n",
    "        self,\n",
    "        figsize: Tuple[float, float] = (8, 8),\n",
    "        plotsize: float = 10,\n",
    "    ) -> plt.Axes:\n",
    "        \n",
    "        fig = plt.figure(figsize=figsize)\n",
    "        ax = fig.add_subplot(111)\n",
    "        ax.plot(\n",
    "            [plotsize, plotsize, -plotsize, -plotsize],\n",
    "            [plotsize, -plotsize, plotsize, -plotsize],\n",
    "            \"wd\",\n",
    "        )\n",
    "        ax.plot([0],[0],\"rd\")\n",
    "        ax.set_aspect(\"equal\")\n",
    "        ax.set_title(\"X (horizontal, Y(vertical), Origin(red dot))\")\n",
    "        x = []\n",
    "        y = []\n",
    "        c = []\n",
    "        for src in self.sources:\n",
    "            x.append(src.loc[0])\n",
    "            y.append(src.loc[1])\n",
    "            c.append(src.intensity)\n",
    "\n",
    "        sc = ax.scatter(x,y,s=100, c=c, cmap=plt.cm.jet)\n",
    "        _ = fig.colorbar(sc, orientation=\"horizontal\")\n",
    "\n",
    "        return ax"
   ]
  },
  {
   "cell_type": "code",
   "execution_count": 20,
   "metadata": {},
   "outputs": [
    {
     "name": "stdout",
     "output_type": "stream",
     "text": [
      "      x    y    z    intensity         type\n",
      "0  10.5  7.5  0.0  7963.110840  source_data\n",
      "1   5.5  2.5  0.0  9855.455078  source_data\n",
      "2   7.5  2.5  0.0  9072.014648  source_data\n",
      "3   7.5  9.5  0.0  7379.597656  source_data\n",
      "4   2.5  4.5  0.0  6296.469238  source_data\n",
      "5   7.5  5.5  0.0  8247.190430  source_data\n",
      "6   9.5  5.5  0.0  9841.912109  source_data\n",
      "7  13.5  3.5  0.0  7179.616211  source_data\n",
      "8   8.5  0.5  0.0  9441.282227  source_data\n",
      "9   6.5  4.5  0.0  7127.908203  source_data\n",
      "        x    y    z    intensity type\n",
      "10    0.5  0.5  0.5  1455.600952  NaN\n",
      "11    1.5  0.5  0.5  1857.440430  NaN\n",
      "12    2.5  0.5  0.5  2414.474121  NaN\n",
      "13    3.5  0.5  0.5  3247.087646  NaN\n",
      "14    4.5  0.5  0.5  4497.229492  NaN\n",
      "..    ...  ...  ...          ...  ...\n",
      "145   9.5  9.5  0.5  5132.606445  NaN\n",
      "146  10.5  9.5  0.5  4369.873535  NaN\n",
      "147  11.5  9.5  0.5  3451.400635  NaN\n",
      "148  12.5  9.5  0.5  2526.160400  NaN\n",
      "149  13.5  9.5  0.5  1886.992065  NaN\n",
      "\n",
      "[140 rows x 5 columns]\n"
     ]
    }
   ],
   "source": [
    "column_names = ['x', 'y', 'z', 'intensity', 'type']\n",
    "df = pd.read_csv(\"../data/test/result0_test.csv\", names=column_names)\n",
    "df_source = df[df['type'] == 'source_data']\n",
    "df_detector = df[df['type'] != 'source_data']\n",
    "print(df_source)\n",
    "print(df_detector)"
   ]
  },
  {
   "cell_type": "code",
   "execution_count": 21,
   "metadata": {},
   "outputs": [
    {
     "data": {
      "image/png": "[encoded data removed]",
      "text/plain": [
       "<Figure size 576x576 with 2 Axes>"
      ]
     },
     "metadata": {
      "needs_background": "light"
     },
     "output_type": "display_data"
    }
   ],
   "source": [
    "world = World()\n",
    "for index, row in df_source.iterrows():\n",
    "    world.add_source(Source(loc=[row['x'],row['y'],row['z']], intensity=row['intensity']))\n",
    "\n",
    "ax = world.visualize_world()"
   ]
  },
  {
   "cell_type": "code",
   "execution_count": 24,
   "metadata": {},
   "outputs": [
    {
     "name": "stdout",
     "output_type": "stream",
     "text": [
      "[[ 1455.60095215  1857.44042969  2414.47412109  3247.08764648\n",
      "   4497.22949219  5914.20263672  7397.14550781 12497.37011719\n",
      "  41847.35546875 10719.25585938  4795.16455078  3263.69897461\n",
      "   2637.74536133  2247.8828125 ]\n",
      " [ 1726.05029297  2295.60473633  3093.765625    4465.99853516\n",
      "   7686.15527344 12629.66503906 12498.7109375  15672.96972656\n",
      "  14828.6875      8683.50195312  5186.55761719  3907.21044922\n",
      "   3541.9909668   3326.89477539]\n",
      " [ 2084.64648438  3004.63110352  4149.92236328  5772.65039062\n",
      "  12041.80371094 45521.07421875 20101.13867188 44187.66796875\n",
      "  14022.37304688  7740.19482422  5514.32324219  4713.66015625\n",
      "   5605.77539062  7545.35839844]\n",
      " [ 2543.3659668   4629.82714844  7711.85058594  7159.32324219\n",
      "   9558.97753906 15885.765625   18096.59179688 17314.25195312\n",
      "  11862.1640625   8443.34765625  6409.16064453  5548.33154297\n",
      "   8451.34179688 30690.4296875 ]\n",
      " [ 2801.33959961  6806.62695312 27683.45507812  8808.06933594\n",
      "   7671.61181641 12911.77734375 38335.49609375 19221.95117188\n",
      "  14098.8984375  13921.90039062  8980.07714844  6102.64355469\n",
      "   6260.58251953  7887.79248047]\n",
      " [ 2459.4699707   4451.69384766  7288.78857422  6011.078125\n",
      "   6100.20019531  9096.08203125 16854.3203125  42029.9921875\n",
      "  19435.51367188 45799.20703125 13090.25        6639.96972656\n",
      "   4818.77490234  3980.98657227]\n",
      " [ 1941.82922363  2711.97412109  3477.09985352  3918.1796875\n",
      "   4615.73583984  6195.80517578  9250.35742188 13077.14160156\n",
      "  12683.07617188 15488.1328125  13624.07128906  7722.15087891\n",
      "   4496.21630859  3142.8059082 ]\n",
      " [ 1561.50378418  1980.79138184  2437.35449219  2928.54418945\n",
      "   3607.53369141  4687.98535156  6237.68847656  7631.49755859\n",
      "   8401.06640625 12038.64160156 36197.3046875   9510.48925781\n",
      "   4240.04199219  2733.36889648]\n",
      " [ 1301.39587402  1589.32873535  1930.6015625   2359.29272461\n",
      "   2986.20947266  4090.38378906  6462.37011719  9637.82910156\n",
      "   7785.06933594  7742.77148438  9511.37011719  5958.29931641\n",
      "   3423.45068359  2316.15234375]\n",
      " [ 1110.50842285  1328.95629883  1599.42114258  1961.40808105\n",
      "   2529.9909668   3723.15039062  8171.36474609 32093.13867188\n",
      "   8847.1875      5132.60644531  4369.87353516  3451.40063477\n",
      "   2526.16040039  1886.99206543]]\n"
     ]
    },
    {
     "data": {
      "image/png": "[encoded data removed]",
      "text/plain": [
       "<Figure size 432x288 with 1 Axes>"
      ]
     },
     "metadata": {
      "needs_background": "light"
     },
     "output_type": "display_data"
    }
   ],
   "source": [
    "cnts = df_detector['intensity'].values\n",
    "x_ = 14\n",
    "y_ = 10\n",
    "viz = cnts.reshape(y_, x_)\n",
    "print(viz)\n",
    "plt.imshow(viz, vmin=0, vmax=np.percentile(cnts, 99))\n",
    "plt.gca().invert_yaxis()"
   ]
  },
  {
   "cell_type": "code",
   "execution_count": null,
   "metadata": {},
   "outputs": [],
   "source": []
  }
 ],
 "metadata": {
  "kernelspec": {
   "display_name": "Python 3",
   "language": "python",
   "name": "python3"
  },
  "language_info": {
   "codemirror_mode": {
    "name": "ipython",
    "version": 3
   },
   "file_extension": ".py",
   "mimetype": "text/x-python",
   "name": "python",
   "nbconvert_exporter": "python",
   "pygments_lexer": "ipython3",
   "version": "3.8.10"
  }
 },
 "nbformat": 4,
 "nbformat_minor": 2
}
