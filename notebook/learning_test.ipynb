{
 "cells": [
  {
   "cell_type": "code",
   "execution_count": 6,
   "metadata": {},
   "outputs": [],
   "source": [
    "import numpy as np\n",
    "import pandas as pd\n",
    "import seaborn as sns\n",
    "import json\n",
    "from PIL import Image\n",
    "import matplotlib.pyplot as plt\n",
    "from mpl_toolkits.mplot3d import Axes3D\n",
    "import IPython.display as display\n",
    "%matplotlib inline\n",
    "\n",
    "import torch\n",
    "import torchvision\n",
    "import torch.nn as nn\n",
    "import torch.nn.functional as F\n",
    "import torch.optim as optim\n",
    "from torchvision import models,transforms, datasets\n",
    "from torch.utils.data import DataLoader"
   ]
  },
  {
   "cell_type": "code",
   "execution_count": 7,
   "metadata": {},
   "outputs": [],
   "source": [
    "import sys\n",
    "sys.path.append(\"../src/libs/\")"
   ]
  },
  {
   "cell_type": "code",
   "execution_count": 8,
   "metadata": {},
   "outputs": [],
   "source": [
    "from transform import BaseTransform\n",
    "from dataset import CustomDataset\n",
    "from loss import LossFunction"
   ]
  },
  {
   "cell_type": "code",
   "execution_count": 30,
   "metadata": {},
   "outputs": [
    {
     "name": "stdout",
     "output_type": "stream",
     "text": [
      "Pytorch Version:  1.7.0\n",
      "Torchvision Version: 0.8.0\n"
     ]
    }
   ],
   "source": [
    "print(\"Pytorch Version: \", torch.__version__)\n",
    "print(\"Torchvision Version:\", torchvision.__version__)\n",
    "\n",
    "# GPUが利用可能か確認\n",
    "if torch.cuda.is_available():\n",
    "    device = torch.device(\"cuda\")\n",
    "else:\n",
    "    device = torch.device(\"cpu\")"
   ]
  },
  {
   "cell_type": "code",
   "execution_count": 62,
   "metadata": {},
   "outputs": [],
   "source": [
    "img_path = \"../data/img/\"\n",
    "cor_path = \"../data/cor_img/\"\n",
    "transform = BaseTransform() #256*256\n",
    "dataset = CustomDataset(data_dir=img_path,cor_dir=cor_path,transform=transform)\n",
    "data_loader = DataLoader(dataset, batch_size=64, shuffle=False)"
   ]
  },
  {
   "cell_type": "markdown",
   "metadata": {},
   "source": [
    "## Generator"
   ]
  },
  {
   "cell_type": "code",
   "execution_count": 63,
   "metadata": {},
   "outputs": [],
   "source": [
    "class Generator(nn.Module):\n",
    "    def __init__(self, measurement_channels=3, output_channels=3, hidden_dim=64):\n",
    "        super(Generator, self).__init__()\n",
    "        \n",
    "        # Generatorのアーキテクチャを定義\n",
    "        self.conv1 = nn.Conv2d(measurement_channels, hidden_dim, kernel_size=4, stride=2, padding=1)\n",
    "        self.conv2 = nn.Conv2d(hidden_dim, hidden_dim * 2, kernel_size=4, stride=2, padding=1)\n",
    "        self.conv3 = nn.Conv2d(hidden_dim * 2, hidden_dim * 4, kernel_size=4, stride=2, padding=1)\n",
    "        self.conv4 = nn.Conv2d(hidden_dim * 4, output_channels, kernel_size=4, stride=2, padding=1)\n",
    "        self.activation = nn.ReLU()\n",
    "        self.upsample = nn.Upsample(scale_factor=2, mode='bilinear', align_corners=True)\n",
    "        self.output_activation = nn.Tanh()  # 出力を[-1, 1]の範囲に調整\n",
    "\n",
    "    def forward(self, measurement):\n",
    "        x = self.activation(self.conv1(measurement))\n",
    "        x = self.activation(self.conv2(x))\n",
    "        x = self.activation(self.conv3(x))\n",
    "        x = self.activation(self.conv4(x))\n",
    "        x = self.upsample(x)\n",
    "        generated_image = self.output_activation(x)\n",
    "        return generated_image"
   ]
  },
  {
   "cell_type": "code",
   "execution_count": 64,
   "metadata": {},
   "outputs": [],
   "source": [
    "class Discriminator(nn.Module):\n",
    "    def __init__(self, input_channels=3, hidden_dim=64):\n",
    "        super(Discriminator, self).__init__()\n",
    "        \n",
    "        # Discriminatorのアーキテクチャを定義\n",
    "        self.conv1 = nn.Conv2d(input_channels, hidden_dim, kernel_size=4, stride=2, padding=1)\n",
    "        self.conv2 = nn.Conv2d(hidden_dim, hidden_dim * 2, kernel_size=4, stride=2, padding=1)\n",
    "        self.conv3 = nn.Conv2d(hidden_dim * 2, hidden_dim * 4, kernel_size=4, stride=2, padding=1)\n",
    "        self.conv4 = nn.Conv2d(hidden_dim * 4, 1, kernel_size=4, stride=2, padding=1)\n",
    "        self.activation = nn.LeakyReLU(0.2)\n",
    "        self.output_activation = nn.Sigmoid()\n",
    "\n",
    "    def forward(self, input_image):\n",
    "        x = self.activation(self.conv1(input_image))\n",
    "        x = self.activation(self.conv2(x))\n",
    "        x = self.activation(self.conv3(x))\n",
    "        x = self.activation(self.conv4(x))\n",
    "        discriminator_output = self.output_activation(x)\n",
    "        return discriminator_output"
   ]
  },
  {
   "cell_type": "code",
   "execution_count": 65,
   "metadata": {},
   "outputs": [],
   "source": [
    "device = torch.device(\"cpu\")"
   ]
  },
  {
   "cell_type": "code",
   "execution_count": 66,
   "metadata": {},
   "outputs": [
    {
     "name": "stdout",
     "output_type": "stream",
     "text": [
      "Epoch [10/50], Generator Loss: 7.614522473886609e-06, Discriminator Loss: 1.3718728951062076e-05\n",
      "Epoch [20/50], Generator Loss: 6.556513199029723e-07, Discriminator Loss: 1.818307828216348e-05\n",
      "Epoch [30/50], Generator Loss: 6.407501587091247e-07, Discriminator Loss: 8.534913831681479e-06\n",
      "Epoch [40/50], Generator Loss: 6.407501587091247e-07, Discriminator Loss: 5.339200470189098e-06\n",
      "Epoch [50/50], Generator Loss: 6.556513199029723e-07, Discriminator Loss: 3.895814188581426e-06\n"
     ]
    },
    {
     "data": {
      "image/png": "[encoded data removed]",
      "text/plain": [
       "<Figure size 720x360 with 1 Axes>"
      ]
     },
     "metadata": {
      "needs_background": "light"
     },
     "output_type": "display_data"
    }
   ],
   "source": [
    "# GeneratorとDiscriminatorのインスタンスを作成\n",
    "generator = Generator()\n",
    "generator = generator.to(device)\n",
    "discriminator = Discriminator()\n",
    "discriminator = discriminator.to(device)\n",
    "\n",
    "# 損失関数を定義\n",
    "criterion = nn.BCELoss()\n",
    "criterion = criterion.to(device)\n",
    "\n",
    "# オプティマイザを定義\n",
    "optimizer_G = optim.Adam(generator.parameters(), lr=0.0002)\n",
    "optimizer_D = optim.Adam(discriminator.parameters(), lr=0.0002)\n",
    "\n",
    "# Lossを記録するリストを作成\n",
    "generator_losses = []\n",
    "discriminator_losses = []\n",
    "\n",
    "# 学習ループ\n",
    "num_epochs = 50\n",
    "for epoch in range(num_epochs):\n",
    "    for measurement_batch, heatmap_batch in data_loader:\n",
    "        measurement_batch = measurement_batch.to(device)  # データをGPUに移動\n",
    "        heatmap_batch = heatmap_batch.to(device)  # データをGPUに移動\n",
    "\n",
    "        # Discriminatorの学習\n",
    "        optimizer_D.zero_grad()\n",
    "        \n",
    "        # 本物のデータに対する損失\n",
    "        real_output = discriminator(heatmap_batch)\n",
    "        real_labels = torch.ones_like(real_output, device=device)  # real_output と同じ形状で1のテンソルを生成\n",
    "        real_loss = criterion(real_output, real_labels)\n",
    "        \n",
    "        # 生成されたデータに対する損失\n",
    "        generated_heatmap = generator(measurement_batch)\n",
    "        fake_output = discriminator(generated_heatmap.detach())\n",
    "        fake_labels = torch.zeros_like(fake_output, device=device)  # fake_output と同じ形状で0のテンソルを生成\n",
    "        fake_loss = criterion(fake_output, fake_labels)\n",
    "        \n",
    "        d_loss = real_loss + fake_loss\n",
    "        d_loss.backward()\n",
    "        optimizer_D.step()\n",
    "\n",
    "        # Generatorの学習\n",
    "        optimizer_G.zero_grad()\n",
    "        fake_output = discriminator(generated_heatmap)\n",
    "        g_loss = criterion(fake_output, fake_labels)\n",
    "        g_loss.backward()\n",
    "        optimizer_G.step()\n",
    "\n",
    "    if (epoch + 1) % 10 == 0:\n",
    "        print(f\"Epoch [{epoch+1}/{num_epochs}], Generator Loss: {g_loss.item()}, Discriminator Loss: {d_loss.item()}\")\n",
    "\n",
    "    # Lossを記録\n",
    "    generator_losses.append(g_loss.item())\n",
    "    discriminator_losses.append(d_loss.item())\n",
    "\n",
    "# Lossの履歴をプロット\n",
    "plt.figure(figsize=(10, 5))\n",
    "plt.plot(generator_losses, label='Generator Loss')\n",
    "plt.plot(discriminator_losses, label='Discriminator Loss')\n",
    "plt.xlabel('Epoch')\n",
    "plt.ylabel('Loss')\n",
    "plt.legend()\n",
    "plt.show()"
   ]
  },
  {
   "cell_type": "markdown",
   "metadata": {},
   "source": [
    "# Result"
   ]
  },
  {
   "cell_type": "code",
   "execution_count": 57,
   "metadata": {},
   "outputs": [],
   "source": [
    "# 新しい計測データを取得\n",
    "for new_measurement_batch, new_cor_batch in data_loader:\n",
    "    new_measurement_data = new_measurement_batch"
   ]
  },
  {
   "cell_type": "code",
   "execution_count": 60,
   "metadata": {},
   "outputs": [
    {
     "name": "stderr",
     "output_type": "stream",
     "text": [
      "/tmp/ipykernel_30772/1794362156.py:2: UserWarning: To copy construct from a tensor, it is recommended to use sourceTensor.clone().detach() or sourceTensor.clone().detach().requires_grad_(True), rather than torch.tensor(sourceTensor).\n",
      "  new_measurement_data = torch.tensor(new_measurement_data)\n"
     ]
    }
   ],
   "source": [
    "# 学習が完了した後、Generatorを使用して新しい計測結果から放射線分布を生成\n",
    "new_measurement_data = torch.tensor(new_measurement_data)\n",
    "generated_heatmap = generator(new_measurement_data)\n"
   ]
  },
  {
   "cell_type": "code",
   "execution_count": 59,
   "metadata": {},
   "outputs": [
    {
     "data": {
      "text/plain": [
       "<matplotlib.image.AxesImage at 0x7f99ed73f460>"
      ]
     },
     "execution_count": 59,
     "metadata": {},
     "output_type": "execute_result"
    },
    {
     "data": {
      "image/png": "[encoded data removed]",
      "text/plain": [
       "<Figure size 432x288 with 1 Axes>"
      ]
     },
     "metadata": {
      "needs_background": "light"
     },
     "output_type": "display_data"
    }
   ],
   "source": [
    "# ここでimage_indexを選択する (0からバッチサイズ - 1の間)\n",
    "image_index = 0  # 例として最初の画像を選択\n",
    "\n",
    "# 生成された画像のバッチから指定の画像を取得\n",
    "generated_heatmap_image = generated_heatmap[image_index]\n",
    "\n",
    "# generated_heatmap を PIL 画像に変換\n",
    "generated_heatmap_image = transforms.ToPILImage()(generated_heatmap_image)\n",
    "\n",
    "# 画像を表示\n",
    "plt.imshow(generated_heatmap_image)"
   ]
  }
 ],
 "metadata": {
  "kernelspec": {
   "display_name": "Python 3",
   "language": "python",
   "name": "python3"
  },
  "language_info": {
   "codemirror_mode": {
    "name": "ipython",
    "version": 3
   },
   "file_extension": ".py",
   "mimetype": "text/x-python",
   "name": "python",
   "nbconvert_exporter": "python",
   "pygments_lexer": "ipython3",
   "version": "3.8.10"
  },
  "orig_nbformat": 4
 },
 "nbformat": 4,
 "nbformat_minor": 2
}
