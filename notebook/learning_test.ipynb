{
 "cells": [
  {
   "cell_type": "code",
   "execution_count": 1,
   "metadata": {},
   "outputs": [
    {
     "name": "stderr",
     "output_type": "stream",
     "text": [
      "/home/morita/.local/lib/python3.8/site-packages/scipy/__init__.py:146: UserWarning: A NumPy version >=1.16.5 and <1.23.0 is required for this version of SciPy (detected version 1.24.4\n",
      "  warnings.warn(f\"A NumPy version >={np_minversion} and <{np_maxversion}\"\n"
     ]
    }
   ],
   "source": [
    "import numpy as np\n",
    "import pandas as pd\n",
    "import seaborn as sns\n",
    "import json\n",
    "from PIL import Image\n",
    "import matplotlib.pyplot as plt\n",
    "from mpl_toolkits.mplot3d import Axes3D\n",
    "import IPython.display as display\n",
    "%matplotlib inline\n",
    "\n",
    "import torch\n",
    "import torchvision\n",
    "import torch.nn as nn\n",
    "import torch.optim as optim\n",
    "from torchvision import models,transforms, datasets\n",
    "from torch.utils.data import dataloader"
   ]
  },
  {
   "cell_type": "code",
   "execution_count": 3,
   "metadata": {},
   "outputs": [],
   "source": [
    "import sys\n",
    "sys.path.append(\"../src/libs/\")"
   ]
  },
  {
   "cell_type": "code",
   "execution_count": 4,
   "metadata": {},
   "outputs": [],
   "source": [
    "from transform import BaseTransform"
   ]
  },
  {
   "cell_type": "code",
   "execution_count": 6,
   "metadata": {},
   "outputs": [
    {
     "name": "stdout",
     "output_type": "stream",
     "text": [
      "Pytorch Version:  1.7.0\n",
      "Torchvision Version: 0.8.0\n"
     ]
    }
   ],
   "source": [
    "print(\"Pytorch Version: \", torch.__version__)\n",
    "print(\"Torchvision Version:\", torchvision.__version__)"
   ]
  },
  {
   "cell_type": "code",
   "execution_count": 8,
   "metadata": {},
   "outputs": [
    {
     "name": "stdout",
     "output_type": "stream",
     "text": [
      "      x    y    z        value         type\n",
      "0   8.5  0.5  0.0  2719.859619  source_data\n",
      "1  10.5  5.5  0.0  8113.486328  source_data\n",
      "           x     y    z       value type\n",
      "2       0.05  0.05  0.5   96.157524  NaN\n",
      "3       0.15  0.05  0.5   97.948441  NaN\n",
      "4       0.25  0.05  0.5   99.790588  NaN\n",
      "5       0.35  0.05  0.5  101.685997  NaN\n",
      "6       0.45  0.05  0.5  103.636848  NaN\n",
      "...      ...   ...  ...         ...  ...\n",
      "13997  13.55  9.95  0.5  300.031860  NaN\n",
      "13998  13.65  9.95  0.5  294.107239  NaN\n",
      "13999  13.75  9.95  0.5  288.240753  NaN\n",
      "14000  13.85  9.95  0.5  282.439758  NaN\n",
      "14001  13.95  9.95  0.5  276.710785  NaN\n",
      "\n",
      "[14000 rows x 5 columns]\n"
     ]
    }
   ],
   "source": [
    "filepath = \"../data/rad_cnt/\"\n",
    "df = pd.read_csv(filepath+\"result0.csv\", header=None)\n",
    "df.columns = [\"x\", \"y\", \"z\", \"value\", \"type\"]\n",
    "source = df[df['type'] == 'source_data']\n",
    "print(source)\n",
    "sensor_data = df = df[df['type'] != 'source_data']\n",
    "print(sensor_data)"
   ]
  },
  {
   "cell_type": "code",
   "execution_count": 9,
   "metadata": {},
   "outputs": [
    {
     "data": {
      "image/png": "[encoded data removed]",
      "text/plain": [
       "<Figure size 432x288 with 1 Axes>"
      ]
     },
     "metadata": {},
     "output_type": "display_data"
    }
   ],
   "source": [
    "min_value = sensor_data['value'].min()\n",
    "max_value = sensor_data['value'].max()\n",
    "sensor_data['value_normalized'] = (sensor_data['value'] - min_value) / (max_value - min_value)\n",
    "source_heatmap = sensor_data.pivot('y', 'x', 'value_normalized')\n",
    "sns.heatmap(source_heatmap, cmap='coolwarm', cbar=False, xticklabels=False, yticklabels=False)\n",
    "plt.gca().invert_yaxis() #invert y axis\n",
    "plt.xlabel('')\n",
    "plt.ylabel('')\n",
    "plt.savefig('../data/img/result2.jpg', format=\"jpg\", bbox_inches='tight', pad_inches=0)\n",
    "plt.show()"
   ]
  },
  {
   "cell_type": "code",
   "execution_count": 10,
   "metadata": {},
   "outputs": [],
   "source": [
    "img = Image.open(\"../data/img/result2.jpg\")"
   ]
  },
  {
   "cell_type": "code",
   "execution_count": 11,
   "metadata": {},
   "outputs": [],
   "source": [
    "transform = BaseTransform()\n",
    "img_transformed = transform(img)"
   ]
  },
  {
   "cell_type": "code",
   "execution_count": 12,
   "metadata": {},
   "outputs": [
    {
     "data": {
      "image/png": "[encoded data removed]",
      "text/plain": [
       "<Figure size 432x288 with 1 Axes>"
      ]
     },
     "metadata": {
      "needs_background": "light"
     },
     "output_type": "display_data"
    }
   ],
   "source": [
    "img_transformed = img_transformed.numpy().transpose((1,2,0))\n",
    "img_transformed = np.clip(img_transformed, 0, 1)\n",
    "plt.imshow(img_transformed)\n",
    "plt.show()"
   ]
  },
  {
   "cell_type": "markdown",
   "metadata": {},
   "source": [
    "## Result"
   ]
  },
  {
   "cell_type": "code",
   "execution_count": 13,
   "metadata": {},
   "outputs": [
    {
     "name": "stdout",
     "output_type": "stream",
     "text": [
      "      x    y  value_normalized\n",
      "0   8.5  0.5          0.335227\n",
      "1  10.5  5.5          1.000000\n"
     ]
    },
    {
     "name": "stderr",
     "output_type": "stream",
     "text": [
      "/home/morita/.local/lib/python3.8/site-packages/seaborn/matrix.py:202: RuntimeWarning: All-NaN slice encountered\n",
      "  vmin = np.nanmin(calc_data)\n",
      "/home/morita/.local/lib/python3.8/site-packages/seaborn/matrix.py:207: RuntimeWarning: All-NaN slice encountered\n",
      "  vmax = np.nanmax(calc_data)\n"
     ]
    },
    {
     "data": {
      "image/png": "[encoded data removed]",
      "text/plain": [
       "<Figure size 432x288 with 1 Axes>"
      ]
     },
     "metadata": {
      "needs_background": "light"
     },
     "output_type": "display_data"
    }
   ],
   "source": [
    "max_value_source = source['value'].max()\n",
    "source['value_normalized'] = source['value'] / max_value_source\n",
    "print(source[['x', 'y', 'value_normalized']])\n",
    "source_heatmap = source.pivot(index = 'y', columns = 'x', values= 'value_normalized')\n",
    "source_heatmap = source_heatmap.reindex(range(11), columns=range(15))\n",
    "sns.heatmap(source_heatmap, cmap='coolwarm', cbar=False)\n",
    "plt.gca().invert_yaxis() #invert y axis\n",
    "plt.xlabel('')\n",
    "plt.ylabel('')\n",
    "plt.savefig('../data/cor_img/cor2.jpg', format=\"jpg\", bbox_inches='tight', pad_inches=0)\n",
    "plt.show()"
   ]
  },
  {
   "cell_type": "code",
   "execution_count": 14,
   "metadata": {},
   "outputs": [
    {
     "data": {
      "image/png": "[encoded data removed]",
      "text/plain": [
       "<Figure size 432x288 with 1 Axes>"
      ]
     },
     "metadata": {
      "needs_background": "light"
     },
     "output_type": "display_data"
    }
   ],
   "source": [
    "# 2Dグリッドの作成\n",
    "x_range = np.arange(0, 14, 0.1)  # x座標の範囲\n",
    "y_range = np.arange(0, 10, 0.1)  # y座標の範囲\n",
    "X, Y = np.meshgrid(x_range, y_range)\n",
    "\n",
    "\n",
    "# 3D正規分布の計算と重ね合わせ\n",
    "pdf = np.zeros_like(X)\n",
    "for i in range(len(source)):\n",
    "    xi, yi, value = source['x'][i], source['y'][i], source['value_normalized'][i]\n",
    "    sigma = 1.0  # 標準偏差（適切な値に調整）\n",
    "    pdf += (1 / (sigma * np.sqrt(2 * np.pi))) * np.exp(-((X - xi)**2 + (Y - yi)**2) / (2 * sigma**2)) * value\n",
    "\n",
    "# 2Dヒートマップの表示\n",
    "plt.imshow(pdf, cmap='coolwarm',origin = \"lower\")\n",
    "plt.show()\n"
   ]
  },
  {
   "cell_type": "markdown",
   "metadata": {},
   "source": [
    "# GAN"
   ]
  },
  {
   "cell_type": "markdown",
   "metadata": {},
   "source": [
    "## Generator"
   ]
  },
  {
   "cell_type": "code",
   "execution_count": null,
   "metadata": {},
   "outputs": [],
   "source": [
    "class Generator(nn.Module):\n",
    "    def __init__(self, z_dim, img_dim):\n",
    "        super(Generator, self).__init__()\n",
    "        self.fc = nn.Sequential(\n",
    "            nn.Linear(z_dim, 128),\n",
    "            nn.ReLU(),\n",
    "            nn.Linear(128, 256),\n",
    "            nn.ReLU(),\n",
    "            nn.Linear(256, 512),\n",
    "            nn.ReLU(),\n",
    "            nn.Linear(512, np.prod(img_dim)),\n",
    "            nn.Tanh()\n",
    "        )\n",
    "        self.img_dim = img_dim\n",
    "\n",
    "    def forward(self, z):\n",
    "        img = self.fc(z)\n",
    "        return img.view(img.size(0), *self.img_dim)"
   ]
  },
  {
   "cell_type": "code",
   "execution_count": null,
   "metadata": {},
   "outputs": [],
   "source": []
  }
 ],
 "metadata": {
  "kernelspec": {
   "display_name": "Python 3",
   "language": "python",
   "name": "python3"
  },
  "language_info": {
   "codemirror_mode": {
    "name": "ipython",
    "version": 3
   },
   "file_extension": ".py",
   "mimetype": "text/x-python",
   "name": "python",
   "nbconvert_exporter": "python",
   "pygments_lexer": "ipython3",
   "version": "3.8.10"
  },
  "orig_nbformat": 4
 },
 "nbformat": 4,
 "nbformat_minor": 2
}
