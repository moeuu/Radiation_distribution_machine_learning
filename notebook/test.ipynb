{
 "cells": [
  {
   "cell_type": "code",
   "execution_count": 2,
   "metadata": {},
   "outputs": [],
   "source": [
    "import pandas as pd\n",
    "import random\n",
    "import numpy as np\n",
    "import scipy.stats as stats\n",
    "from scipy import optimize\n",
    "import matplotlib.pyplot as plt\n",
    "import seaborn as sns\n",
    "from typing import List, Tuple, Union\n",
    "from dataclasses import dataclass\n",
    "from scipy.spatial import distance"
   ]
  },
  {
   "cell_type": "code",
   "execution_count": 5,
   "metadata": {},
   "outputs": [
    {
     "name": "stdout",
     "output_type": "stream",
     "text": [
      "        x    y    z        value\n",
      "0     0.5  0.5  0.0  1531.771118\n",
      "1     1.5  0.5  0.0  1827.572510\n",
      "2     2.5  0.5  0.0  1218.727173\n",
      "3     3.5  0.5  0.0  1015.480652\n",
      "4     4.5  0.5  0.0   749.622131\n",
      "..    ...  ...  ...          ...\n",
      "135   9.5  9.5  0.0    90.363411\n",
      "136  10.5  9.5  0.0    81.334854\n",
      "137  11.5  9.5  0.0    68.844215\n",
      "138  12.5  9.5  0.0    58.700428\n",
      "139  13.5  9.5  0.0    50.448380\n",
      "\n",
      "[140 rows x 4 columns]\n"
     ]
    }
   ],
   "source": [
    "result_path = \"../data/result1_test.csv\"\n",
    "df = pd.read_csv(result_path, header=None)\n",
    "df.columns = ['x', 'y', 'z', 'value']\n",
    "print(df)"
   ]
  },
  {
   "cell_type": "code",
   "execution_count": 6,
   "metadata": {},
   "outputs": [],
   "source": [
    "@dataclass\n",
    "class Source:\n",
    "    \"\"\"\n",
    "    Create point radiation source.\n",
    "\n",
    "    Examples\n",
    "    --------\n",
    "    >>> Source([1, 2, 3], 2.0)\n",
    "    Source(loc=[1, 2, 3], intensity=2.0)\n",
    "    \"\"\"\n",
    "\n",
    "    #: Location of the radiation source such that [x, y, z] [m].\n",
    "    loc: List[float]\n",
    "    #: Intensity of the radiation source [MBq]. (default is 1.0)\n",
    "    intensity: float = 1.0"
   ]
  },
  {
   "cell_type": "code",
   "execution_count": 7,
   "metadata": {},
   "outputs": [],
   "source": [
    "class World(object):\n",
    "    \"\"\"\n",
    "    Create world for adding radiation sources and detectors.\n",
    "    \"\"\"\n",
    "    def __init__(self):\n",
    "        self.sources: List[Source] = []\n",
    "\n",
    "    def __repr__(self) -> str:\n",
    "        repr_str = f\"{self.__class__}: contains {len(self.sources)} sources.\\n\"\n",
    "        src_str = \",\\n \".join([str(it) for it in self.sources])\n",
    "        repr_str = f\"{repr_str}[\\n {src_str}\\n]\"\n",
    "        return repr_str\n",
    "\n",
    "    def add_source(self, source: Source):\n",
    "        \"\"\"\n",
    "        Add radiation point source.\n",
    "\n",
    "        Parameters\n",
    "        ----------\n",
    "        source: Source\n",
    "            Radiation point source.\n",
    "        \"\"\"\n",
    "        self.sources.append(source)\n",
    "\n",
    "    def visualize_world(\n",
    "        self,\n",
    "        figsize: Tuple[float, float] = (8, 8),\n",
    "        plotsize: float = 10,\n",
    "    ) -> plt.Axes:\n",
    "        \"\"\"\n",
    "        Visualize radiation sources and detectors in world (X-Y plane).\n",
    "\n",
    "        Parameters\n",
    "        ----------\n",
    "        detectors: List[Detector]\n",
    "            List of detectors to be visualized. (default is [])\n",
    "        figsize: tuple(float, float)\n",
    "            figsize for plot.\n",
    "        plotsize: float\n",
    "            Plot in xy plane [-plotsize, plotsize] x [-plotsize, plotsize]\n",
    "\n",
    "        Returns\n",
    "        -------\n",
    "        ax: plt.Axes\n",
    "            Matplotlib axes\n",
    "        \"\"\"\n",
    "\n",
    "        # Setup plot area\n",
    "        fig = plt.figure(figsize=figsize)\n",
    "        ax = fig.add_subplot(111)\n",
    "        ax.plot(\n",
    "            [plotsize, plotsize, -plotsize, -plotsize],\n",
    "            [plotsize, -plotsize, plotsize, -plotsize],\n",
    "            \"wd\",\n",
    "        )\n",
    "        ax.plot([0], [0], \"rd\")\n",
    "        ax.set_aspect(\"equal\")\n",
    "        ax.set_title(\"X (horizontal), Y (vertical), Origin (red dot)\")\n",
    "\n",
    "        # Visualize sources\n",
    "        x = []\n",
    "        y = []\n",
    "        c = []\n",
    "        for src in self.sources:\n",
    "            x.append(src.loc[0])\n",
    "            y.append(src.loc[1])\n",
    "            c.append(src.intensity)\n",
    "\n",
    "        sc = ax.scatter(x, y, s=100, c=c, cmap=plt.cm.jet)\n",
    "        _ = fig.colorbar(sc, orientation=\"horizontal\")\n",
    "\n",
    "        return ax"
   ]
  },
  {
   "cell_type": "code",
   "execution_count": 8,
   "metadata": {},
   "outputs": [
    {
     "data": {
      "image/png": "[encoded data removed]",
      "text/plain": [
       "<Figure size 576x576 with 2 Axes>"
      ]
     },
     "metadata": {
      "needs_background": "light"
     },
     "output_type": "display_data"
    }
   ],
   "source": [
    "# Construct world\n",
    "world = World()\n",
    "world.add_source(Source(loc=np.array([1,1,0]), intensity=500))\n",
    "world.add_source(Source(loc=np.array([2,2,0]), intensity=500))\n",
    "world.add_source(Source(loc=np.array([3,3,0]), intensity=5000))\n",
    "world.add_source(Source(loc=np.array([4,4,0]), intensity=200))\n",
    "world.add_source(Source(loc=np.array([5,5,0]), intensity=900))\n",
    "world.add_source(Source(loc=np.array([6,6,0]), intensity=100))\n",
    "\n",
    "ax = world.visualize_world()"
   ]
  },
  {
   "cell_type": "code",
   "execution_count": 9,
   "metadata": {},
   "outputs": [
    {
     "data": {
      "image/png": "[encoded data removed]",
      "text/plain": [
       "<Figure size 432x288 with 2 Axes>"
      ]
     },
     "metadata": {
      "needs_background": "light"
     },
     "output_type": "display_data"
    }
   ],
   "source": [
    "heatmap = df.pivot('y', 'x', 'value')\n",
    "sns.heatmap(heatmap, cmap='coolwarm')\n",
    "plt.gca().invert_yaxis() #invert y axis\n",
    "plt.xlabel('X')\n",
    "plt.ylabel('Y')\n",
    "plt.title('Radiation value')\n",
    "plt.show()\n",
    "    "
   ]
  },
  {
   "cell_type": "code",
   "execution_count": 16,
   "metadata": {},
   "outputs": [
    {
     "name": "stdout",
     "output_type": "stream",
     "text": [
      "        x    y    z\n",
      "0     0.5  0.5  0.0\n",
      "1     1.5  0.5  0.0\n",
      "2     2.5  0.5  0.0\n",
      "3     3.5  0.5  0.0\n",
      "4     4.5  0.5  0.0\n",
      "..    ...  ...  ...\n",
      "135   9.5  9.5  0.0\n",
      "136  10.5  9.5  0.0\n",
      "137  11.5  9.5  0.0\n",
      "138  12.5  9.5  0.0\n",
      "139  13.5  9.5  0.0\n",
      "\n",
      "[140 rows x 3 columns]\n"
     ]
    }
   ],
   "source": [
    "df_cnt = df['value']\n",
    "b_measure = df_cnt\n",
    "x_b = df[['x', 'y', 'z']]\n",
    "print(x_b)\n",
    "assert x_b.shape[0] == len(b_measure), 'Number of measument should be equal to number of position'"
   ]
  },
  {
   "cell_type": "code",
   "execution_count": 19,
   "metadata": {},
   "outputs": [],
   "source": [
    "def generate_grid(W=10, H=10):\n",
    "    x_lin = np.linspace(-W, W, 14)\n",
    "    y_lin = np.linspace(H, -H, 10)\n",
    "    x_grid, y_grid = np.meshgrid(x_lin, y_lin)\n",
    "    return x_grid, y_grid"
   ]
  },
  {
   "cell_type": "code",
   "execution_count": 25,
   "metadata": {},
   "outputs": [],
   "source": [
    "# radiation source candidate\n",
    "x_q = []\n",
    "x_grid, y_grid = generate_grid(W=14, H=10)\n",
    "# radiation source should be z = 0\n",
    "x_q = np.stack([x_grid, y_grid, np.zeros_like(x_grid)], axis=-1)\n",
    "x_q = x_q.reshape(-1, 3)\n",
    "\n",
    "# A matrix in Equation 3\n",
    "dist = distance.cdist(x_b, x_q)\n",
    "\n",
    "# TODO: Check again later. Might be wrong\n",
    "factors = np.stack([10*5 for d in range(len(df_cnt))])[:, np.newaxis]\n",
    "\n",
    "A = factors/dist**2"
   ]
  },
  {
   "cell_type": "markdown",
   "metadata": {},
   "source": [
    "## Optimization\n",
    "### Gradient decent"
   ]
  },
  {
   "cell_type": "code",
   "execution_count": 26,
   "metadata": {},
   "outputs": [],
   "source": [
    "def score_func(q):\n",
    "    global A, b_measure\n",
    "    b_ave = A.dot(q)\n",
    "    score = np.sum(b_measure*np.log(b_ave))-np.sum(b_ave)\n",
    "    return score\n",
    "\n",
    "def grad_func(q):\n",
    "    global A, b_measure\n",
    "    b_ave = A.dot(q)\n",
    "    grad_tmp = (b_measure/b_ave)[:,np.newaxis]*A\n",
    "    grad = grad_tmp.sum(axis=0) - A.sum(axis=0)\n",
    "    return grad"
   ]
  },
  {
   "cell_type": "code",
   "execution_count": 27,
   "metadata": {},
   "outputs": [
    {
     "name": "stdout",
     "output_type": "stream",
     "text": [
      "initial score:405939.73988493683\n"
     ]
    }
   ],
   "source": [
    "# initial guess for radiation distribution\n",
    "M = x_q.shape[0]\n",
    "q_max = 10\n",
    "q_init = 1/q_max\n",
    "q = np.array([q_init]*M)\n",
    "# b_ave = A.dot(q)\n",
    "# plt.imshow(b_ave.reshape(div_num, div_num))\n",
    "\n",
    "optim_factor = 0.00002\n",
    "init_score = score_func(q)\n",
    "print(f'initial score:{init_score}')"
   ]
  },
  {
   "cell_type": "code",
   "execution_count": 31,
   "metadata": {},
   "outputs": [
    {
     "name": "stderr",
     "output_type": "stream",
     "text": [
      "/tmp/ipykernel_84700/3282009756.py:10: FutureWarning: Support for multi-dimensional indexing (e.g. `obj[:, None]`) is deprecated and will be removed in a future version.  Convert to a numpy array before indexing instead.\n",
      "  grad_tmp = (b_measure/b_ave)[:,np.newaxis]*A\n"
     ]
    },
    {
     "data": {
      "image/png": "[encoded data removed]",
      "text/plain": [
       "<Figure size 432x288 with 1 Axes>"
      ]
     },
     "metadata": {
      "needs_background": "light"
     },
     "output_type": "display_data"
    },
    {
     "data": {
      "image/png": "[encoded data removed]",
      "text/plain": [
       "<Figure size 432x288 with 1 Axes>"
      ]
     },
     "metadata": {
      "needs_background": "light"
     },
     "output_type": "display_data"
    },
    {
     "data": {
      "image/png": "[encoded data removed]",
      "text/plain": [
       "<Figure size 432x288 with 1 Axes>"
      ]
     },
     "metadata": {
      "needs_background": "light"
     },
     "output_type": "display_data"
    },
    {
     "data": {
      "image/png": "[encoded data removed]",
      "text/plain": [
       "<Figure size 432x288 with 1 Axes>"
      ]
     },
     "metadata": {
      "needs_background": "light"
     },
     "output_type": "display_data"
    },
    {
     "data": {
      "image/png": "[encoded data removed]",
      "text/plain": [
       "<Figure size 432x288 with 1 Axes>"
      ]
     },
     "metadata": {
      "needs_background": "light"
     },
     "output_type": "display_data"
    },
    {
     "data": {
      "image/png": "[encoded data removed]",
      "text/plain": [
       "<Figure size 432x288 with 1 Axes>"
      ]
     },
     "metadata": {
      "needs_background": "light"
     },
     "output_type": "display_data"
    },
    {
     "data": {
      "image/png": "[encoded data removed]",
      "text/plain": [
       "<Figure size 432x288 with 1 Axes>"
      ]
     },
     "metadata": {
      "needs_background": "light"
     },
     "output_type": "display_data"
    }
   ],
   "source": [
    "for i in range(1, 800):\n",
    "    q_diff = grad_func(q)\n",
    "    q += optim_factor*q_diff\n",
    "\n",
    "    # bound > 0\n",
    "    q[q<0]=0.0000001\n",
    "\n",
    "    score = score_func(q)\n",
    "    if i%100==0:\n",
    "        plt.figure()\n",
    "        plt.title(f'iter:{i} score:{score} q_max:{q.max():.3}, q_min:{q.min():.3}')\n",
    "        plt.imshow(q.reshape(10, 14))"
   ]
  },
  {
   "cell_type": "markdown",
   "metadata": {},
   "source": [
    "## SLSQP\n",
    "Sequential (least-squares) quadratic programming (SQP)"
   ]
  },
  {
   "cell_type": "code",
   "execution_count": 32,
   "metadata": {},
   "outputs": [],
   "source": [
    "# initial guess for radiation distribution\n",
    "M = x_q.shape[0]\n",
    "q_max = 10\n",
    "q_init = 1/q_max\n",
    "q = np.array([q_init]*M)\n",
    "\n",
    "# bound\n",
    "lb = [0.000000]*M\n",
    "ub = [np.inf]*M\n",
    "bounds = optimize.Bounds(lb, ub)\n",
    "\n",
    "# method\n",
    "method='SLSQP'\n",
    "options={'disp': True, 'iprint':2}\n",
    "# method='L-BFGS-B'\n",
    "# options={'disp': True, 'iprint':101, 'maxfun': 150000}\n",
    "\n",
    "# method='trust-constr'\n",
    "# options={'disp': True, 'verbose':2}\n",
    "\n",
    "# Formulated as error function\n",
    "inv_score_fun = lambda x:-score_func(x)\n",
    "inv_grad_fun = lambda x:-grad_func(x)"
   ]
  },
  {
   "cell_type": "code",
   "execution_count": 33,
   "metadata": {},
   "outputs": [
    {
     "name": "stdout",
     "output_type": "stream",
     "text": [
      "Error ratio:-4.195e-05\n",
      "Error ratio:-2.586e-05\n",
      "Error ratio:-4.958e-05\n"
     ]
    },
    {
     "name": "stderr",
     "output_type": "stream",
     "text": [
      "/tmp/ipykernel_84700/3282009756.py:10: FutureWarning: Support for multi-dimensional indexing (e.g. `obj[:, None]`) is deprecated and will be removed in a future version.  Convert to a numpy array before indexing instead.\n",
      "  grad_tmp = (b_measure/b_ave)[:,np.newaxis]*A\n"
     ]
    }
   ],
   "source": [
    "# gradient check\n",
    "for _ in range(3):\n",
    "    rand_q = np.random.rand(M)\n",
    "    err = optimize.check_grad(inv_score_fun, inv_grad_fun, rand_q)\n",
    "    err/=inv_grad_fun(rand_q).mean()\n",
    "    print(f'Error ratio:{err:.4}')"
   ]
  },
  {
   "cell_type": "code",
   "execution_count": 34,
   "metadata": {},
   "outputs": [
    {
     "name": "stdout",
     "output_type": "stream",
     "text": [
      "  NIT    FC           OBJFUN            GNORM\n",
      "    1   142     1.308549E+09     2.736591E+05\n",
      "    2   293    -6.902315E+05     1.334351E+04\n",
      "    3   434    -5.996396E+05     5.975821E+03\n",
      "    4   578    -6.833231E+05     6.059850E+03\n",
      "    5   720    -6.929164E+05     5.947015E+03\n",
      "    6   861    -6.966054E+05     5.683215E+03\n",
      "    7  1002    -7.036068E+05     5.615962E+03\n",
      "    8  1143    -7.451960E+05     5.307870E+03\n",
      "    9  1284    -6.169580E+05     3.597205E+03\n",
      "   10  1426    -4.856996E+05     1.264436E+03\n",
      "   11  1569    -6.655337E+05     1.016772E+04\n",
      "   12  1711    -7.417631E+05     1.005927E+04\n",
      "   13  1853    -7.062763E+05     9.757469E+03\n",
      "   14  1996    -6.960718E+05     9.664310E+03\n",
      "   15  2139    -5.689638E+05     9.565582E+03\n",
      "   16  2283    -6.683902E+05     9.646439E+03\n",
      "   17  2425    -7.725997E+05     9.510439E+03\n",
      "   18  2567    -8.044722E+05     9.003031E+03\n",
      "   19  2709    -8.076862E+05     7.214567E+03\n",
      "   20  2851    -8.046279E+05     5.406941E+03\n",
      "   21  2993    -8.045322E+05     4.505507E+03\n",
      "   22  3135    -8.148237E+05     3.451160E+03\n",
      "   23  3276    -8.058408E+05     5.354694E+03\n",
      "   24  3419    -8.072040E+05     4.414592E+03\n",
      "   25  3562    -7.942160E+05     3.918276E+03\n",
      "   26  3706    -8.066915E+05     3.875094E+03\n",
      "   27  3848    -8.146028E+05     3.433551E+03\n",
      "   28  3990    -8.155388E+05     3.950246E+03\n",
      "   29  4132    -8.153928E+05     1.327670E+03\n",
      "   30  4274    -8.156195E+05     6.667461E+02\n",
      "   31  4416    -8.157148E+05     7.307106E+02\n",
      "   32  4558    -8.156074E+05     1.392272E+03\n",
      "   33  4700    -8.158699E+05     7.498873E+02\n",
      "   34  4841    -8.158537E+05     8.789205E+02\n",
      "   35  4983    -8.159201E+05     8.800194E+02\n",
      "   36  5124    -8.159587E+05     9.198682E+02\n",
      "   37  5265    -8.159713E+05     8.758729E+02\n",
      "   38  5406    -8.159855E+05     9.351143E+02\n",
      "   39  5547    -8.159974E+05     7.879020E+02\n",
      "   40  5688    -8.160143E+05     8.342030E+02\n",
      "   41  5829    -8.160268E+05     8.349879E+02\n",
      "   42  5970    -8.160443E+05     8.222062E+02\n",
      "   43  6111    -8.160505E+05     8.140765E+02\n",
      "   44  6252    -8.160576E+05     8.069800E+02\n",
      "   45  6393    -8.160687E+05     8.006554E+02\n",
      "   46  6534    -8.160808E+05     7.977997E+02\n",
      "   47  6675    -8.160906E+05     8.027701E+02\n",
      "   48  6816    -8.161001E+05     8.189400E+02\n",
      "   49  6957    -8.161017E+05     8.295154E+02\n",
      "   50  7098    -8.161041E+05     8.288770E+02\n",
      "   51  7239    -8.161083E+05     8.284349E+02\n",
      "   52  7380    -8.161227E+05     8.292828E+02\n",
      "   53  7521    -8.161266E+05     8.260337E+02\n",
      "   54  7662    -8.161272E+05     8.293754E+02\n",
      "   55  7803    -8.161293E+05     8.348901E+02\n",
      "   56  7944    -8.161299E+05     8.438579E+02\n",
      "   57  8085    -8.161333E+05     8.403547E+02\n",
      "   58  8226    -8.161434E+05     8.291235E+02\n",
      "   59  8367    -8.161442E+05     7.963364E+02\n",
      "   60  8508    -8.161448E+05     7.990360E+02\n",
      "   61  8649    -8.161449E+05     8.073148E+02\n",
      "   62  8790    -8.161455E+05     8.096273E+02\n",
      "   63  8931    -8.161459E+05     8.205252E+02\n",
      "   64  9072    -8.161468E+05     8.223426E+02\n",
      "   65  9213    -8.161473E+05     8.218572E+02\n",
      "   66  9354    -8.161474E+05     8.102790E+02\n",
      "   67  9495    -8.161475E+05     8.033367E+02\n",
      "   68  9636    -8.161476E+05     8.003081E+02\n",
      "   69  9777    -8.161477E+05     7.999762E+02\n",
      "   70  9918    -8.161478E+05     8.003099E+02\n",
      "   71 10059    -8.161485E+05     8.009567E+02\n",
      "   72 10200    -8.161494E+05     8.094278E+02\n",
      "   73 10341    -8.161503E+05     8.094333E+02\n",
      "   74 10482    -8.161507E+05     8.066478E+02\n",
      "   75 10623    -8.161507E+05     8.045316E+02\n",
      "   76 10764    -8.161507E+05     8.061978E+02\n",
      "   77 10905    -8.161509E+05     8.068607E+02\n",
      "   78 11046    -8.161510E+05     8.145462E+02\n",
      "   79 11187    -8.161513E+05     8.170466E+02\n",
      "   80 11328    -8.161520E+05     8.287133E+02\n",
      "   81 11469    -8.161537E+05     8.300528E+02\n",
      "   82 11610    -8.161539E+05     8.358207E+02\n",
      "   83 11751    -8.161542E+05     8.338555E+02\n",
      "   84 11892    -8.161549E+05     8.310703E+02\n",
      "   85 12033    -8.161556E+05     8.230538E+02\n",
      "   86 12174    -8.161580E+05     8.241186E+02\n",
      "   87 12315    -8.161591E+05     8.261799E+02\n",
      "   88 12456    -8.161593E+05     8.336720E+02\n",
      "   89 12597    -8.161593E+05     8.401740E+02\n",
      "   90 12738    -8.161591E+05     8.385226E+02\n",
      "   91 12880    -8.161593E+05     8.346383E+02\n",
      "   92 13021    -8.161593E+05     8.356974E+02\n",
      "   93 13163    -8.161594E+05     8.405522E+02\n",
      "   94 13304    -8.161596E+05     8.385137E+02\n",
      "   95 13445    -8.161599E+05     8.327577E+02\n",
      "   96 13586    -8.161604E+05     8.225751E+02\n",
      "   97 13727    -8.161622E+05     8.178081E+02\n",
      "   98 13868    -8.161652E+05     8.027878E+02\n",
      "   99 14009    -8.161695E+05     8.023853E+02\n",
      "  100 14149    -8.161695E+05     8.230784E+02\n",
      "Iteration limit reached    (Exit mode 9)\n",
      "            Current function value: -816169.4639600229\n",
      "            Iterations: 100\n",
      "            Function evaluations: 14149\n",
      "            Gradient evaluations: 100\n",
      "Iteration limit reached\n",
      "Final score:816169.4639600229\n"
     ]
    }
   ],
   "source": [
    "res = optimize.minimize(inv_score_fun, q, method=method, bounds=bounds, options=options)\n",
    "print(res.message)\n",
    "print(f'Final score:{-res.fun}')"
   ]
  },
  {
   "cell_type": "code",
   "execution_count": 35,
   "metadata": {},
   "outputs": [
    {
     "data": {
      "text/plain": [
       "<matplotlib.image.AxesImage at 0x7f7dde242ac0>"
      ]
     },
     "execution_count": 35,
     "metadata": {},
     "output_type": "execute_result"
    },
    {
     "data": {
      "image/png": "[encoded data removed]",
      "text/plain": [
       "<Figure size 432x288 with 1 Axes>"
      ]
     },
     "metadata": {
      "needs_background": "light"
     },
     "output_type": "display_data"
    }
   ],
   "source": [
    "plt.imshow(res.x.reshape(10, 14))"
   ]
  },
  {
   "cell_type": "code",
   "execution_count": 37,
   "metadata": {},
   "outputs": [
    {
     "name": "stdout",
     "output_type": "stream",
     "text": [
      "high intensity location:\n",
      " [[ 3.23076923  3.33333333  0.        ]\n",
      " [-3.23076923 -1.11111111  0.        ]]\n",
      "Source(loc=array([1, 1, 0]), intensity=500)\n",
      "Source(loc=array([2, 2, 0]), intensity=500)\n",
      "Source(loc=array([3, 3, 0]), intensity=5000)\n",
      "Source(loc=array([4, 4, 0]), intensity=200)\n",
      "Source(loc=array([5, 5, 0]), intensity=900)\n",
      "Source(loc=array([6, 6, 0]), intensity=100)\n"
     ]
    },
    {
     "data": {
      "image/png": "[encoded data removed]",
      "text/plain": [
       "<Figure size 432x288 with 1 Axes>"
      ]
     },
     "metadata": {
      "needs_background": "light"
     },
     "output_type": "display_data"
    }
   ],
   "source": [
    "thresh = res.x.max()/10\n",
    "idx = np.where(res.x>thresh)\n",
    "print(f'high intensity location:\\n {x_q[idx[0]]}')\n",
    "plt.imshow((res.x>thresh).reshape(10, 14))\n",
    "for it in world.sources:\n",
    "    print(it)"
   ]
  },
  {
   "cell_type": "code",
   "execution_count": null,
   "metadata": {},
   "outputs": [],
   "source": []
  }
 ],
 "metadata": {
  "kernelspec": {
   "display_name": "Python 3",
   "language": "python",
   "name": "python3"
  },
  "language_info": {
   "codemirror_mode": {
    "name": "ipython",
    "version": 3
   },
   "file_extension": ".py",
   "mimetype": "text/x-python",
   "name": "python",
   "nbconvert_exporter": "python",
   "pygments_lexer": "ipython3",
   "version": "3.8.10"
  },
  "orig_nbformat": 4
 },
 "nbformat": 4,
 "nbformat_minor": 2
}
